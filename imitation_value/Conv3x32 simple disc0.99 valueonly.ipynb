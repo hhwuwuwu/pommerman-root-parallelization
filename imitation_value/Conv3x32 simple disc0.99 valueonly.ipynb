{
 "cells": [
  {
   "cell_type": "code",
   "execution_count": 1,
   "metadata": {},
   "outputs": [
    {
     "name": "stderr",
     "output_type": "stream",
     "text": [
      "Using TensorFlow backend.\n"
     ]
    }
   ],
   "source": [
    "import numpy as np\n",
    "from keras.models import Model, load_model\n",
    "from keras.layers import Input, Conv2D, Flatten, Dense\n",
    "from keras.callbacks import ModelCheckpoint, EarlyStopping\n",
    "import tensorflow as tf\n",
    "import keras.backend as K\n",
    "from sklearn.metrics import explained_variance_score, accuracy_score\n",
    "import matplotlib.pyplot as plt\n",
    "%matplotlib inline"
   ]
  },
  {
   "cell_type": "code",
   "execution_count": 2,
   "metadata": {},
   "outputs": [],
   "source": [
    "# make sure TF does not allocate all memory\n",
    "config = tf.ConfigProto()\n",
    "config.gpu_options.allow_growth = True\n",
    "K.set_session(tf.Session(config=config))"
   ]
  },
  {
   "cell_type": "code",
   "execution_count": 4,
   "metadata": {},
   "outputs": [
    {
     "data": {
      "text/plain": [
       "((594333, 11, 11, 18), (594333,), (594333,))"
      ]
     },
     "execution_count": 4,
     "metadata": {},
     "output_type": "execute_result"
    }
   ],
   "source": [
    "data = np.load('simple_600K_disc0.99_cleaned.npz')\n",
    "x_train = data['observations']\n",
    "p_train = data['actions']\n",
    "v_train = data['rewards']\n",
    "x_train.shape, p_train.shape, v_train.shape"
   ]
  },
  {
   "cell_type": "code",
   "execution_count": 5,
   "metadata": {},
   "outputs": [
    {
     "data": {
      "text/plain": [
       "((95623, 11, 11, 18), (95623,), (95623,))"
      ]
     },
     "execution_count": 5,
     "metadata": {},
     "output_type": "execute_result"
    }
   ],
   "source": [
    "data = np.load('valid_100K_disc0.99_cleaned.npz')\n",
    "x_test = data['observations']\n",
    "p_test = data['actions']\n",
    "v_test = data['rewards']\n",
    "x_test.shape, p_test.shape, v_test.shape"
   ]
  },
  {
   "cell_type": "code",
   "execution_count": 6,
   "metadata": {},
   "outputs": [
    {
     "name": "stdout",
     "output_type": "stream",
     "text": [
      "__________________________________________________________________________________________________\n",
      "Layer (type)                    Output Shape         Param #     Connected to                     \n",
      "==================================================================================================\n",
      "input_1 (InputLayer)            (None, 11, 11, 18)   0                                            \n",
      "__________________________________________________________________________________________________\n",
      "conv2d_1 (Conv2D)               (None, 11, 11, 32)   5216        input_1[0][0]                    \n",
      "__________________________________________________________________________________________________\n",
      "conv2d_2 (Conv2D)               (None, 11, 11, 32)   9248        conv2d_1[0][0]                   \n",
      "__________________________________________________________________________________________________\n",
      "conv2d_3 (Conv2D)               (None, 11, 11, 32)   9248        conv2d_2[0][0]                   \n",
      "__________________________________________________________________________________________________\n",
      "flatten_1 (Flatten)             (None, 3872)         0           conv2d_3[0][0]                   \n",
      "__________________________________________________________________________________________________\n",
      "p (Dense)                       (None, 6)            23238       flatten_1[0][0]                  \n",
      "__________________________________________________________________________________________________\n",
      "v (Dense)                       (None, 1)            3873        flatten_1[0][0]                  \n",
      "==================================================================================================\n",
      "Total params: 50,823\n",
      "Trainable params: 50,823\n",
      "Non-trainable params: 0\n",
      "__________________________________________________________________________________________________\n"
     ]
    }
   ],
   "source": [
    "c = x = Input(shape=(11,11,18))\n",
    "c = Conv2D(filters=32, kernel_size=3, strides=1, activation=\"relu\", padding=\"same\")(c)\n",
    "c = Conv2D(filters=32, kernel_size=3, strides=1, activation=\"relu\", padding=\"same\")(c)\n",
    "c = Conv2D(filters=32, kernel_size=3, strides=1, activation=\"relu\", padding=\"same\")(c)\n",
    "h = Flatten()(c)\n",
    "#h = Dense(128, activation='relu')(h)\n",
    "p = Dense(6, activation=\"softmax\", name='p')(h)\n",
    "#h = Dense(128, activation='relu')(h)\n",
    "v = Dense(1, activation=\"tanh\", name='v')(h)\n",
    "model = Model(x, [p, v])\n",
    "model.summary()\n",
    "model.compile(optimizer='adam', loss=['sparse_categorical_crossentropy', 'mse'], loss_weights=[0, 1], metrics={'p': 'accuracy'})"
   ]
  },
  {
   "cell_type": "code",
   "execution_count": 7,
   "metadata": {},
   "outputs": [],
   "source": [
    "callbacks = [\n",
    "    ModelCheckpoint('conv32_simple_value_best.h5', monitor='val_v_loss', verbose=1, save_best_only=True, mode='auto'),\n",
    "    EarlyStopping(monitor='val_v_loss', min_delta=0.001, patience=5, verbose=1, mode='auto')\n",
    "]"
   ]
  },
  {
   "cell_type": "code",
   "execution_count": 8,
   "metadata": {},
   "outputs": [
    {
     "name": "stdout",
     "output_type": "stream",
     "text": [
      "Train on 594333 samples, validate on 95623 samples\n",
      "Epoch 1/100\n",
      "594333/594333 [==============================] - 48s 80us/step - loss: 0.1285 - p_loss: 1.7886 - v_loss: 0.1285 - p_acc: 0.2168 - val_loss: 0.1784 - val_p_loss: 1.7959 - val_v_loss: 0.1784 - val_p_acc: 0.2027\n",
      "\n",
      "Epoch 00001: val_v_loss improved from inf to 0.17835, saving model to conv32_simple_value_best.h5\n",
      "Epoch 2/100\n",
      "594333/594333 [==============================] - 64s 108us/step - loss: 0.0844 - p_loss: 1.7971 - v_loss: 0.0844 - p_acc: 0.1998 - val_loss: 0.2188 - val_p_loss: 1.7998 - val_v_loss: 0.2188 - val_p_acc: 0.1835\n",
      "\n",
      "Epoch 00002: val_v_loss did not improve from 0.17835\n",
      "Epoch 3/100\n",
      "594333/594333 [==============================] - 38s 64us/step - loss: 0.0684 - p_loss: 1.7966 - v_loss: 0.0684 - p_acc: 0.1885 - val_loss: 0.2291 - val_p_loss: 1.7958 - val_v_loss: 0.2291 - val_p_acc: 0.1824\n",
      "\n",
      "Epoch 00003: val_v_loss did not improve from 0.17835\n",
      "Epoch 4/100\n",
      "594333/594333 [==============================] - 36s 61us/step - loss: 0.0621 - p_loss: 1.7978 - v_loss: 0.0621 - p_acc: 0.1830 - val_loss: 0.2280 - val_p_loss: 1.7983 - val_v_loss: 0.2280 - val_p_acc: 0.1810\n",
      "\n",
      "Epoch 00004: val_v_loss did not improve from 0.17835\n",
      "Epoch 5/100\n",
      "594333/594333 [==============================] - 23s 38us/step - loss: 0.0583 - p_loss: 1.7991 - v_loss: 0.0583 - p_acc: 0.1789 - val_loss: 0.2290 - val_p_loss: 1.7986 - val_v_loss: 0.2290 - val_p_acc: 0.1871\n",
      "\n",
      "Epoch 00005: val_v_loss did not improve from 0.17835\n",
      "Epoch 6/100\n",
      "594333/594333 [==============================] - 22s 37us/step - loss: 0.0559 - p_loss: 1.7982 - v_loss: 0.0559 - p_acc: 0.1800 - val_loss: 0.2396 - val_p_loss: 1.8018 - val_v_loss: 0.2396 - val_p_acc: 0.1751\n",
      "\n",
      "Epoch 00006: val_v_loss did not improve from 0.17835\n",
      "Epoch 00006: early stopping\n"
     ]
    }
   ],
   "source": [
    "history = model.fit(x_train, [p_train, v_train], batch_size=512, epochs=100, validation_data=(x_test, [p_test, v_test]), callbacks=callbacks)"
   ]
  },
  {
   "cell_type": "code",
   "execution_count": 9,
   "metadata": {},
   "outputs": [
    {
     "data": {
      "text/plain": [
       "Text(0.5,1,'Value MSE')"
      ]
     },
     "execution_count": 9,
     "metadata": {},
     "output_type": "execute_result"
    },
    {
     "data": {
      "image/png": "[encoded data removed]",
      "text/plain": [
       "<Figure size 1152x432 with 2 Axes>"
      ]
     },
     "metadata": {},
     "output_type": "display_data"
    }
   ],
   "source": [
    "plt.figure(figsize=(16,6))\n",
    "plt.subplot(1, 2, 1)\n",
    "plt.plot(history.history['p_acc'])\n",
    "plt.plot(history.history['val_p_acc'])\n",
    "plt.legend(['Train', 'Validation'])\n",
    "plt.title(\"Action prediction accuracy\")\n",
    "plt.subplot(1, 2, 2)\n",
    "plt.plot(history.history['v_loss'])\n",
    "plt.plot(history.history['val_v_loss'])\n",
    "plt.legend(['Train', 'Validation'])\n",
    "plt.title(\"Value MSE\")"
   ]
  },
  {
   "cell_type": "code",
   "execution_count": 10,
   "metadata": {},
   "outputs": [
    {
     "name": "stdout",
     "output_type": "stream",
     "text": [
      "Accuracy train: 0.17723565745129413\n",
      "Accuracy test: 0.17509385817219705\n",
      "Explained variance train: 0.6443678286212291\n",
      "Explained variance test: -0.5905888801550181\n"
     ]
    }
   ],
   "source": [
    "model.save('conv32_simple_value_final.h5')\n",
    "p_train_pred, v_train_pred = model.predict(x_train, batch_size=2048)\n",
    "p_test_pred, v_test_pred = model.predict(x_test, batch_size=2048)\n",
    "act_train_pred = np.argmax(p_train_pred, axis=1)\n",
    "act_test_pred = np.argmax(p_test_pred, axis=1)\n",
    "print(\"Accuracy train:\", accuracy_score(p_train, act_train_pred))\n",
    "print(\"Accuracy test:\", accuracy_score(p_test, act_test_pred))\n",
    "print(\"Explained variance train:\", explained_variance_score(v_train, v_train_pred))\n",
    "print(\"Explained variance test:\", explained_variance_score(v_test, v_test_pred))"
   ]
  },
  {
   "cell_type": "code",
   "execution_count": 11,
   "metadata": {},
   "outputs": [
    {
     "name": "stdout",
     "output_type": "stream",
     "text": [
      "Accuracy train: 0.20300403982279294\n",
      "Accuracy test: 0.20272319421059787\n",
      "Explained variance train: 0.32294052612962953\n",
      "Explained variance test: -0.18984509809398675\n"
     ]
    }
   ],
   "source": [
    "model = load_model('conv32_simple_value_best.h5')\n",
    "p_train_pred, v_train_pred = model.predict(x_train, batch_size=2048)\n",
    "p_test_pred, v_test_pred = model.predict(x_test, batch_size=2048)\n",
    "act_train_pred = np.argmax(p_train_pred, axis=1)\n",
    "act_test_pred = np.argmax(p_test_pred, axis=1)\n",
    "print(\"Accuracy train:\", accuracy_score(p_train, act_train_pred))\n",
    "print(\"Accuracy test:\", accuracy_score(p_test, act_test_pred))\n",
    "print(\"Explained variance train:\", explained_variance_score(v_train, v_train_pred))\n",
    "print(\"Explained variance test:\", explained_variance_score(v_test, v_test_pred))"
   ]
  },
  {
   "cell_type": "code",
   "execution_count": null,
   "metadata": {},
   "outputs": [],
   "source": []
  }
 ],
 "metadata": {
  "kernelspec": {
   "display_name": "Python 3",
   "language": "python",
   "name": "python3"
  },
  "language_info": {
   "codemirror_mode": {
    "name": "ipython",
    "version": 3
   },
   "file_extension": ".py",
   "mimetype": "text/x-python",
   "name": "python",
   "nbconvert_exporter": "python",
   "pygments_lexer": "ipython3",
   "version": "3.6.5"
  }
 },
 "nbformat": 4,
 "nbformat_minor": 2
}

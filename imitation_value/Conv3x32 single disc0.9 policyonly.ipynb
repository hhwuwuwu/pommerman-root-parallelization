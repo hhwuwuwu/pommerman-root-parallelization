{
 "cells": [
  {
   "cell_type": "code",
   "execution_count": 1,
   "metadata": {},
   "outputs": [
    {
     "name": "stderr",
     "output_type": "stream",
     "text": [
      "/home/tambet/.conda/envs/pommer/lib/python3.6/site-packages/h5py/__init__.py:36: FutureWarning: Conversion of the second argument of issubdtype from `float` to `np.floating` is deprecated. In future, it will be treated as `np.float64 == np.dtype(float).type`.\n",
      "  from ._conv import register_converters as _register_converters\n",
      "Using TensorFlow backend.\n"
     ]
    }
   ],
   "source": [
    "import numpy as np\n",
    "from keras.models import Model, load_model\n",
    "from keras.layers import Input, Conv2D, Flatten, Dense\n",
    "from keras.callbacks import ModelCheckpoint, EarlyStopping\n",
    "import tensorflow as tf\n",
    "import keras.backend as K\n",
    "from sklearn.metrics import explained_variance_score, accuracy_score\n",
    "import matplotlib.pyplot as plt\n",
    "%matplotlib inline"
   ]
  },
  {
   "cell_type": "code",
   "execution_count": 2,
   "metadata": {},
   "outputs": [],
   "source": [
    "# make sure TF does not allocate all memory\n",
    "config = tf.ConfigProto()\n",
    "config.gpu_options.allow_growth = True\n",
    "K.set_session(tf.Session(config=config))"
   ]
  },
  {
   "cell_type": "code",
   "execution_count": 3,
   "metadata": {},
   "outputs": [
    {
     "data": {
      "text/plain": [
       "((600000, 11, 11, 18), (600000,), (600000,))"
      ]
     },
     "execution_count": 3,
     "metadata": {},
     "output_type": "execute_result"
    }
   ],
   "source": [
    "data = np.load('single_600K_disc0.9.npz')\n",
    "x_train = data['observations']\n",
    "p_train = data['actions']\n",
    "v_train = data['rewards']\n",
    "x_train.shape, p_train.shape, v_train.shape"
   ]
  },
  {
   "cell_type": "code",
   "execution_count": 4,
   "metadata": {},
   "outputs": [
    {
     "data": {
      "text/plain": [
       "((80000, 11, 11, 18), (80000,), (80000,))"
      ]
     },
     "execution_count": 4,
     "metadata": {},
     "output_type": "execute_result"
    }
   ],
   "source": [
    "data = np.load('valid_single_80K_disc0.9.npz')\n",
    "x_test = data['observations']\n",
    "p_test = data['actions']\n",
    "v_test = data['rewards']\n",
    "x_test.shape, p_test.shape, v_test.shape"
   ]
  },
  {
   "cell_type": "code",
   "execution_count": 5,
   "metadata": {},
   "outputs": [
    {
     "name": "stdout",
     "output_type": "stream",
     "text": [
      "__________________________________________________________________________________________________\n",
      "Layer (type)                    Output Shape         Param #     Connected to                     \n",
      "==================================================================================================\n",
      "input_1 (InputLayer)            (None, 11, 11, 18)   0                                            \n",
      "__________________________________________________________________________________________________\n",
      "conv2d_1 (Conv2D)               (None, 11, 11, 32)   5216        input_1[0][0]                    \n",
      "__________________________________________________________________________________________________\n",
      "conv2d_2 (Conv2D)               (None, 11, 11, 32)   9248        conv2d_1[0][0]                   \n",
      "__________________________________________________________________________________________________\n",
      "conv2d_3 (Conv2D)               (None, 11, 11, 32)   9248        conv2d_2[0][0]                   \n",
      "__________________________________________________________________________________________________\n",
      "flatten_1 (Flatten)             (None, 3872)         0           conv2d_3[0][0]                   \n",
      "__________________________________________________________________________________________________\n",
      "p (Dense)                       (None, 6)            23238       flatten_1[0][0]                  \n",
      "__________________________________________________________________________________________________\n",
      "v (Dense)                       (None, 1)            3873        flatten_1[0][0]                  \n",
      "==================================================================================================\n",
      "Total params: 50,823\n",
      "Trainable params: 50,823\n",
      "Non-trainable params: 0\n",
      "__________________________________________________________________________________________________\n"
     ]
    }
   ],
   "source": [
    "c = x = Input(shape=(11,11,18))\n",
    "c = Conv2D(filters=32, kernel_size=3, strides=1, activation=\"relu\", padding=\"same\")(c)\n",
    "c = Conv2D(filters=32, kernel_size=3, strides=1, activation=\"relu\", padding=\"same\")(c)\n",
    "c = Conv2D(filters=32, kernel_size=3, strides=1, activation=\"relu\", padding=\"same\")(c)\n",
    "h = Flatten()(c)\n",
    "#h = Dense(128, activation='relu')(h)\n",
    "p = Dense(6, activation=\"softmax\", name='p')(h)\n",
    "#h = Dense(128, activation='relu')(h)\n",
    "v = Dense(1, activation=\"tanh\", name='v')(h)\n",
    "model = Model(x, [p, v])\n",
    "model.summary()\n",
    "model.compile(optimizer='adam', loss=['sparse_categorical_crossentropy', 'mse'], loss_weights=[1, 0], metrics={'p': 'accuracy'})"
   ]
  },
  {
   "cell_type": "code",
   "execution_count": 7,
   "metadata": {},
   "outputs": [],
   "source": [
    "callbacks = [\n",
    "    ModelCheckpoint('conv32_single_policy_disc0.9_best.h5', monitor='val_p_loss', verbose=1, save_best_only=True, mode='auto'),\n",
    "    EarlyStopping(monitor='val_p_loss', min_delta=0.001, patience=5, verbose=1, mode='auto')\n",
    "]"
   ]
  },
  {
   "cell_type": "code",
   "execution_count": 8,
   "metadata": {
    "scrolled": false
   },
   "outputs": [
    {
     "name": "stdout",
     "output_type": "stream",
     "text": [
      "Train on 600000 samples, validate on 80000 samples\n",
      "Epoch 1/100\n",
      "600000/600000 [==============================] - 39s 64us/step - loss: 1.0851 - p_loss: 1.0851 - v_loss: 0.1424 - p_acc: 0.5440 - val_loss: 0.7810 - val_p_loss: 0.7810 - val_v_loss: 0.1991 - val_p_acc: 0.6627\n",
      "\n",
      "Epoch 00001: val_p_loss improved from inf to 0.78097, saving model to conv32_single_policy_disc0.9_best.h5\n",
      "Epoch 2/100\n",
      "600000/600000 [==============================] - 35s 58us/step - loss: 0.5531 - p_loss: 0.5531 - v_loss: 0.1918 - p_acc: 0.7420 - val_loss: 0.5565 - val_p_loss: 0.5565 - val_v_loss: 0.1779 - val_p_acc: 0.7397\n",
      "\n",
      "Epoch 00005: val_p_loss improved from 0.57393 to 0.55650, saving model to conv32_single_policy_disc0.9_best.h5\n",
      "Epoch 6/100\n",
      "600000/600000 [==============================] - 33s 55us/step - loss: 0.4927 - p_loss: 0.4927 - v_loss: 0.1796 - p_acc: 0.7629 - val_loss: 0.5211 - val_p_loss: 0.5211 - val_v_loss: 0.1759 - val_p_acc: 0.7468\n",
      "\n",
      "Epoch 00013: val_p_loss did not improve from 0.51962\n",
      "Epoch 14/100\n",
      "600000/600000 [==============================] - 33s 55us/step - loss: 0.4881 - p_loss: 0.4881 - v_loss: 0.1803 - p_acc: 0.7652 - val_loss: 0.5134 - val_p_loss: 0.5134 - val_v_loss: 0.1804 - val_p_acc: 0.7521\n",
      "\n",
      "Epoch 00014: val_p_loss improved from 0.51962 to 0.51338, saving model to conv32_single_policy_disc0.9_best.h5\n",
      "Epoch 15/100\n",
      "600000/600000 [==============================] - 33s 55us/step - loss: 0.4857 - p_loss: 0.4857 - v_loss: 0.1814 - p_acc: 0.7657 - val_loss: 0.5180 - val_p_loss: 0.5180 - val_v_loss: 0.1893 - val_p_acc: 0.7498\n",
      "\n",
      "Epoch 00015: val_p_loss did not improve from 0.51338\n",
      "Epoch 16/100\n",
      "600000/600000 [==============================] - 65s 109us/step - loss: 0.4831 - p_loss: 0.4831 - v_loss: 0.1830 - p_acc: 0.7673 - val_loss: 0.5167 - val_p_loss: 0.5167 - val_v_loss: 0.1734 - val_p_acc: 0.7507\n",
      "\n",
      "Epoch 00016: val_p_loss did not improve from 0.51338\n",
      "Epoch 17/100\n",
      "600000/600000 [==============================] - 80s 133us/step - loss: 0.4797 - p_loss: 0.4797 - v_loss: 0.1813 - p_acc: 0.7688 - val_loss: 0.5143 - val_p_loss: 0.5143 - val_v_loss: 0.1783 - val_p_acc: 0.7515\n",
      "\n",
      "Epoch 00017: val_p_loss did not improve from 0.51338\n",
      "Epoch 18/100\n",
      "600000/600000 [==============================] - 77s 128us/step - loss: 0.4775 - p_loss: 0.4775 - v_loss: 0.1786 - p_acc: 0.7696 - val_loss: 0.5111 - val_p_loss: 0.5111 - val_v_loss: 0.1722 - val_p_acc: 0.7515\n",
      "\n",
      "Epoch 00018: val_p_loss improved from 0.51338 to 0.51113, saving model to conv32_single_policy_disc0.9_best.h5\n",
      "Epoch 19/100\n",
      "600000/600000 [==============================] - 81s 136us/step - loss: 0.4752 - p_loss: 0.4752 - v_loss: 0.1805 - p_acc: 0.7703 - val_loss: 0.5121 - val_p_loss: 0.5121 - val_v_loss: 0.1740 - val_p_acc: 0.7505\n",
      "\n",
      "Epoch 00019: val_p_loss did not improve from 0.51113\n",
      "Epoch 20/100\n",
      "600000/600000 [==============================] - 77s 129us/step - loss: 0.4733 - p_loss: 0.4733 - v_loss: 0.1827 - p_acc: 0.7709 - val_loss: 0.5117 - val_p_loss: 0.5117 - val_v_loss: 0.1840 - val_p_acc: 0.7536\n",
      "\n",
      "Epoch 00020: val_p_loss did not improve from 0.51113\n",
      "Epoch 21/100\n",
      "600000/600000 [==============================] - 48s 80us/step - loss: 0.4712 - p_loss: 0.4712 - v_loss: 0.1824 - p_acc: 0.7723 - val_loss: 0.5116 - val_p_loss: 0.5116 - val_v_loss: 0.1848 - val_p_acc: 0.7542\n",
      "\n",
      "Epoch 00021: val_p_loss did not improve from 0.51113\n",
      "Epoch 22/100\n",
      "600000/600000 [==============================] - 35s 58us/step - loss: 0.4689 - p_loss: 0.4689 - v_loss: 0.1837 - p_acc: 0.7736 - val_loss: 0.5093 - val_p_loss: 0.5093 - val_v_loss: 0.1852 - val_p_acc: 0.7536\n",
      "\n",
      "Epoch 00022: val_p_loss improved from 0.51113 to 0.50935, saving model to conv32_single_policy_disc0.9_best.h5\n",
      "Epoch 23/100\n",
      "600000/600000 [==============================] - 34s 57us/step - loss: 0.4677 - p_loss: 0.4677 - v_loss: 0.1831 - p_acc: 0.7741 - val_loss: 0.5131 - val_p_loss: 0.5131 - val_v_loss: 0.1934 - val_p_acc: 0.7534\n",
      "\n",
      "Epoch 00023: val_p_loss did not improve from 0.50935\n",
      "Epoch 24/100\n",
      "600000/600000 [==============================] - 35s 58us/step - loss: 0.4664 - p_loss: 0.4664 - v_loss: 0.1854 - p_acc: 0.7744 - val_loss: 0.5132 - val_p_loss: 0.5132 - val_v_loss: 0.1822 - val_p_acc: 0.7541\n",
      "\n",
      "Epoch 00024: val_p_loss did not improve from 0.50935\n",
      "Epoch 25/100\n",
      "600000/600000 [==============================] - 34s 57us/step - loss: 0.4648 - p_loss: 0.4648 - v_loss: 0.1853 - p_acc: 0.7751 - val_loss: 0.5139 - val_p_loss: 0.5139 - val_v_loss: 0.1857 - val_p_acc: 0.7524\n",
      "\n",
      "Epoch 00025: val_p_loss did not improve from 0.50935\n",
      "Epoch 26/100\n",
      "600000/600000 [==============================] - 35s 58us/step - loss: 0.4633 - p_loss: 0.4633 - v_loss: 0.1860 - p_acc: 0.7759 - val_loss: 0.5070 - val_p_loss: 0.5070 - val_v_loss: 0.1790 - val_p_acc: 0.7549\n",
      "\n",
      "Epoch 00026: val_p_loss improved from 0.50935 to 0.50705, saving model to conv32_single_policy_disc0.9_best.h5\n",
      "Epoch 27/100\n",
      "600000/600000 [==============================] - 38s 63us/step - loss: 0.4623 - p_loss: 0.4623 - v_loss: 0.1886 - p_acc: 0.7769 - val_loss: 0.5093 - val_p_loss: 0.5093 - val_v_loss: 0.1756 - val_p_acc: 0.7532\n",
      "\n",
      "Epoch 00027: val_p_loss did not improve from 0.50705\n",
      "Epoch 28/100\n",
      "600000/600000 [==============================] - 35s 58us/step - loss: 0.4610 - p_loss: 0.4610 - v_loss: 0.1867 - p_acc: 0.7770 - val_loss: 0.5105 - val_p_loss: 0.5105 - val_v_loss: 0.1872 - val_p_acc: 0.7521\n",
      "\n",
      "Epoch 00028: val_p_loss did not improve from 0.50705\n",
      "Epoch 29/100\n",
      "600000/600000 [==============================] - 34s 57us/step - loss: 0.4596 - p_loss: 0.4596 - v_loss: 0.1910 - p_acc: 0.7780 - val_loss: 0.5185 - val_p_loss: 0.5185 - val_v_loss: 0.1864 - val_p_acc: 0.7536\n",
      "\n",
      "Epoch 00029: val_p_loss did not improve from 0.50705\n",
      "Epoch 30/100\n",
      "600000/600000 [==============================] - 34s 57us/step - loss: 0.4583 - p_loss: 0.4583 - v_loss: 0.1903 - p_acc: 0.7787 - val_loss: 0.5119 - val_p_loss: 0.5119 - val_v_loss: 0.1888 - val_p_acc: 0.7566\n",
      "\n",
      "Epoch 00030: val_p_loss did not improve from 0.50705\n",
      "Epoch 31/100\n",
      "600000/600000 [==============================] - 34s 57us/step - loss: 0.4578 - p_loss: 0.4578 - v_loss: 0.1928 - p_acc: 0.7789 - val_loss: 0.5142 - val_p_loss: 0.5142 - val_v_loss: 0.1888 - val_p_acc: 0.7538\n",
      "\n",
      "Epoch 00031: val_p_loss did not improve from 0.50705\n",
      "Epoch 00031: early stopping\n"
     ]
    }
   ],
   "source": [
    "history = model.fit(x_train, [p_train, v_train], batch_size=512, epochs=100, validation_data=(x_test, [p_test, v_test]), callbacks=callbacks)"
   ]
  },
  {
   "cell_type": "code",
   "execution_count": 9,
   "metadata": {},
   "outputs": [
    {
     "data": {
      "text/plain": [
       "Text(0.5,1,'Value MSE')"
      ]
     },
     "execution_count": 9,
     "metadata": {},
     "output_type": "execute_result"
    },
    {
     "data": {
      "image/png": "[encoded data removed]",
      "text/plain": [
       "<Figure size 1152x432 with 2 Axes>"
      ]
     },
     "metadata": {},
     "output_type": "display_data"
    }
   ],
   "source": [
    "plt.figure(figsize=(16,6))\n",
    "plt.subplot(1, 2, 1)\n",
    "plt.plot(history.history['p_acc'])\n",
    "plt.plot(history.history['val_p_acc'])\n",
    "plt.legend(['Train', 'Validation'])\n",
    "plt.title(\"Action prediction accuracy\")\n",
    "plt.subplot(1, 2, 2)\n",
    "plt.plot(history.history['v_loss'])\n",
    "plt.plot(history.history['val_v_loss'])\n",
    "plt.legend(['Train', 'Validation'])\n",
    "plt.title(\"Value MSE\")"
   ]
  },
  {
   "cell_type": "code",
   "execution_count": 10,
   "metadata": {},
   "outputs": [
    {
     "name": "stdout",
     "output_type": "stream",
     "text": [
      "Accuracy train: 0.785685\n",
      "Accuracy test: 0.7538\n",
      "Explained variance train: -2.3092239215585555\n",
      "Explained variance test: -2.2940705879153356\n"
     ]
    }
   ],
   "source": [
    "model.save('conv32_single_policy_disc0.9_final.h5')\n",
    "p_train_pred, v_train_pred = model.predict(x_train, batch_size=2048)\n",
    "p_test_pred, v_test_pred = model.predict(x_test, batch_size=2048)\n",
    "act_train_pred = np.argmax(p_train_pred, axis=1)\n",
    "act_test_pred = np.argmax(p_test_pred, axis=1)\n",
    "print(\"Accuracy train:\", accuracy_score(p_train, act_train_pred))\n",
    "print(\"Accuracy test:\", accuracy_score(p_test, act_test_pred))\n",
    "print(\"Explained variance train:\", explained_variance_score(v_train, v_train_pred))\n",
    "print(\"Explained variance test:\", explained_variance_score(v_test, v_test_pred))"
   ]
  },
  {
   "cell_type": "code",
   "execution_count": 11,
   "metadata": {},
   "outputs": [
    {
     "name": "stdout",
     "output_type": "stream",
     "text": [
      "Accuracy train: 0.7828533333333333\n",
      "Accuracy test: 0.754925\n",
      "Explained variance train: -2.109494670258061\n",
      "Explained variance test: -2.0976877110388905\n"
     ]
    }
   ],
   "source": [
    "model = load_model('conv32_single_policy_disc0.9_best.h5')\n",
    "p_train_pred, v_train_pred = model.predict(x_train, batch_size=2048)\n",
    "p_test_pred, v_test_pred = model.predict(x_test, batch_size=2048)\n",
    "act_train_pred = np.argmax(p_train_pred, axis=1)\n",
    "act_test_pred = np.argmax(p_test_pred, axis=1)\n",
    "print(\"Accuracy train:\", accuracy_score(p_train, act_train_pred))\n",
    "print(\"Accuracy test:\", accuracy_score(p_test, act_test_pred))\n",
    "print(\"Explained variance train:\", explained_variance_score(v_train, v_train_pred))\n",
    "print(\"Explained variance test:\", explained_variance_score(v_test, v_test_pred))"
   ]
  },
  {
   "cell_type": "code",
   "execution_count": null,
   "metadata": {},
   "outputs": [],
   "source": []
  }
 ],
 "metadata": {
  "kernelspec": {
   "display_name": "Python (pommer)",
   "language": "python",
   "name": "pommer"
  },
  "language_info": {
   "codemirror_mode": {
    "name": "ipython",
    "version": 3
   },
   "file_extension": ".py",
   "mimetype": "text/x-python",
   "name": "python",
   "nbconvert_exporter": "python",
   "pygments_lexer": "ipython3",
   "version": "3.6.5"
  }
 },
 "nbformat": 4,
 "nbformat_minor": 2
}

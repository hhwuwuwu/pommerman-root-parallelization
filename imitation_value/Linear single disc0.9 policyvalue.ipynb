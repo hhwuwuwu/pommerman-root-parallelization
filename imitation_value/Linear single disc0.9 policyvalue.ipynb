{
 "cells": [
  {
   "cell_type": "code",
   "execution_count": 1,
   "metadata": {},
   "outputs": [
    {
     "name": "stderr",
     "output_type": "stream",
     "text": [
      "/home/tambet/.conda/envs/pommer/lib/python3.6/site-packages/h5py/__init__.py:36: FutureWarning: Conversion of the second argument of issubdtype from `float` to `np.floating` is deprecated. In future, it will be treated as `np.float64 == np.dtype(float).type`.\n",
      "  from ._conv import register_converters as _register_converters\n",
      "Using TensorFlow backend.\n"
     ]
    }
   ],
   "source": [
    "import numpy as np\n",
    "from keras.models import Model, load_model\n",
    "from keras.layers import Input, Conv2D, Flatten, Dense\n",
    "from keras.callbacks import ModelCheckpoint, EarlyStopping\n",
    "import tensorflow as tf\n",
    "import keras.backend as K\n",
    "from sklearn.metrics import explained_variance_score, accuracy_score\n",
    "import matplotlib.pyplot as plt\n",
    "%matplotlib inline"
   ]
  },
  {
   "cell_type": "code",
   "execution_count": 2,
   "metadata": {},
   "outputs": [],
   "source": [
    "# make sure TF does not allocate all memory\n",
    "config = tf.ConfigProto()\n",
    "config.gpu_options.allow_growth = True\n",
    "K.set_session(tf.Session(config=config))"
   ]
  },
  {
   "cell_type": "code",
   "execution_count": 3,
   "metadata": {},
   "outputs": [
    {
     "data": {
      "text/plain": [
       "((600000, 11, 11, 18), (600000,), (600000,))"
      ]
     },
     "execution_count": 3,
     "metadata": {},
     "output_type": "execute_result"
    }
   ],
   "source": [
    "data = np.load('single_600K_disc0.9.npz')\n",
    "x_train = data['observations']\n",
    "p_train = data['actions']\n",
    "v_train = data['rewards']\n",
    "x_train.shape, p_train.shape, v_train.shape"
   ]
  },
  {
   "cell_type": "code",
   "execution_count": 4,
   "metadata": {},
   "outputs": [
    {
     "data": {
      "text/plain": [
       "((80000, 11, 11, 18), (80000,), (80000,))"
      ]
     },
     "execution_count": 4,
     "metadata": {},
     "output_type": "execute_result"
    }
   ],
   "source": [
    "data = np.load('valid_single_80K_disc0.9.npz')\n",
    "x_test = data['observations']\n",
    "p_test = data['actions']\n",
    "v_test = data['rewards']\n",
    "x_test.shape, p_test.shape, v_test.shape"
   ]
  },
  {
   "cell_type": "code",
   "execution_count": 5,
   "metadata": {},
   "outputs": [
    {
     "name": "stdout",
     "output_type": "stream",
     "text": [
      "__________________________________________________________________________________________________\n",
      "Layer (type)                    Output Shape         Param #     Connected to                     \n",
      "==================================================================================================\n",
      "input_1 (InputLayer)            (None, 11, 11, 18)   0                                            \n",
      "__________________________________________________________________________________________________\n",
      "flatten_1 (Flatten)             (None, 2178)         0           input_1[0][0]                    \n",
      "__________________________________________________________________________________________________\n",
      "p (Dense)                       (None, 6)            13074       flatten_1[0][0]                  \n",
      "__________________________________________________________________________________________________\n",
      "v (Dense)                       (None, 1)            2179        flatten_1[0][0]                  \n",
      "==================================================================================================\n",
      "Total params: 15,253\n",
      "Trainable params: 15,253\n",
      "Non-trainable params: 0\n",
      "__________________________________________________________________________________________________\n"
     ]
    }
   ],
   "source": [
    "c = x = Input(shape=(11,11,18))\n",
    "#c = Conv2D(filters=256, kernel_size=3, strides=1, activation=\"relu\", padding=\"same\")(c)\n",
    "#c = Conv2D(filters=256, kernel_size=3, strides=1, activation=\"relu\", padding=\"same\")(c)\n",
    "#c = Conv2D(filters=256, kernel_size=3, strides=1, activation=\"relu\", padding=\"same\")(c)\n",
    "h = Flatten()(c)\n",
    "#h = Dense(128, activation='relu')(h)\n",
    "p = Dense(6, activation=\"softmax\", name='p')(h)\n",
    "#h = Dense(128, activation='relu')(h)\n",
    "v = Dense(1, activation=\"tanh\", name='v')(h)\n",
    "model = Model(x, [p, v])\n",
    "model.summary()\n",
    "model.compile(optimizer='adam', loss=['sparse_categorical_crossentropy', 'mse'], metrics={'p': 'accuracy'})"
   ]
  },
  {
   "cell_type": "code",
   "execution_count": 6,
   "metadata": {},
   "outputs": [],
   "source": [
    "callbacks = [\n",
    "    ModelCheckpoint('linear_single_disc0.9_best.h5', monitor='val_loss', verbose=1, save_best_only=True, mode='auto'),\n",
    "    EarlyStopping(monitor='val_loss', min_delta=0.001, patience=5, verbose=1, mode='auto')\n",
    "]"
   ]
  },
  {
   "cell_type": "code",
   "execution_count": 7,
   "metadata": {
    "scrolled": false
   },
   "outputs": [
    {
     "name": "stdout",
     "output_type": "stream",
     "text": [
      "Train on 600000 samples, validate on 80000 samples\n",
      "Epoch 1/100\n",
      "600000/600000 [==============================] - 9s 15us/step - loss: 1.5041 - p_loss: 1.4596 - v_loss: 0.0445 - p_acc: 0.4025 - val_loss: 1.4392 - val_p_loss: 1.4013 - val_v_loss: 0.0380 - val_p_acc: 0.4313\n",
      "\n",
      "Epoch 00001: val_loss improved from inf to 1.43925, saving model to linear_single_disc0.9_best.h5\n",
      "Epoch 2/100\n",
      "600000/600000 [==============================] - 8s 13us/step - loss: 1.4219 - p_loss: 1.3828 - v_loss: 0.0391 - p_acc: 0.4389 - val_loss: 1.4105 - val_p_loss: 1.3713 - val_v_loss: 0.0392 - val_p_acc: 0.4409\n",
      "\n",
      "Epoch 00002: val_loss improved from 1.43925 to 1.41053, saving model to linear_single_disc0.9_best.h5\n",
      "Epoch 3/100\n",
      "600000/600000 [==============================] - 8s 13us/step - loss: 1.4056 - p_loss: 1.3665 - v_loss: 0.0391 - p_acc: 0.4452 - val_loss: 1.4130 - val_p_loss: 1.3738 - val_v_loss: 0.0392 - val_p_acc: 0.4427\n",
      "\n",
      "Epoch 00003: val_loss did not improve from 1.41053\n",
      "Epoch 4/100\n",
      "600000/600000 [==============================] - 8s 13us/step - loss: 1.3990 - p_loss: 1.3598 - v_loss: 0.0392 - p_acc: 0.4477 - val_loss: 1.3902 - val_p_loss: 1.3513 - val_v_loss: 0.0389 - val_p_acc: 0.4515\n",
      "\n",
      "Epoch 00004: val_loss improved from 1.41053 to 1.39016, saving model to linear_single_disc0.9_best.h5\n",
      "Epoch 5/100\n",
      "600000/600000 [==============================] - 8s 13us/step - loss: 1.3954 - p_loss: 1.3565 - v_loss: 0.0389 - p_acc: 0.4487 - val_loss: 1.3937 - val_p_loss: 1.3511 - val_v_loss: 0.0426 - val_p_acc: 0.4490\n",
      "\n",
      "Epoch 00005: val_loss did not improve from 1.39016\n",
      "Epoch 6/100\n",
      "600000/600000 [==============================] - 8s 13us/step - loss: 1.3938 - p_loss: 1.3546 - v_loss: 0.0392 - p_acc: 0.4494 - val_loss: 1.3898 - val_p_loss: 1.3496 - val_v_loss: 0.0402 - val_p_acc: 0.4488\n",
      "\n",
      "Epoch 00006: val_loss improved from 1.39016 to 1.38979, saving model to linear_single_disc0.9_best.h5\n",
      "Epoch 7/100\n",
      "600000/600000 [==============================] - 8s 13us/step - loss: 1.3918 - p_loss: 1.3528 - v_loss: 0.0390 - p_acc: 0.4494 - val_loss: 1.3899 - val_p_loss: 1.3520 - val_v_loss: 0.0379 - val_p_acc: 0.4509\n",
      "\n",
      "Epoch 00007: val_loss did not improve from 1.38979\n",
      "Epoch 8/100\n",
      "600000/600000 [==============================] - 8s 13us/step - loss: 1.3914 - p_loss: 1.3523 - v_loss: 0.0392 - p_acc: 0.4496 - val_loss: 1.3969 - val_p_loss: 1.3582 - val_v_loss: 0.0387 - val_p_acc: 0.4471\n",
      "\n",
      "Epoch 00008: val_loss did not improve from 1.38979\n",
      "Epoch 9/100\n",
      "600000/600000 [==============================] - 8s 13us/step - loss: 1.3908 - p_loss: 1.3514 - v_loss: 0.0393 - p_acc: 0.4497 - val_loss: 1.3878 - val_p_loss: 1.3500 - val_v_loss: 0.0379 - val_p_acc: 0.4525\n",
      "\n",
      "Epoch 00009: val_loss improved from 1.38979 to 1.38783, saving model to linear_single_disc0.9_best.h5\n",
      "Epoch 10/100\n",
      "600000/600000 [==============================] - 8s 13us/step - loss: 1.3896 - p_loss: 1.3506 - v_loss: 0.0390 - p_acc: 0.4505 - val_loss: 1.3907 - val_p_loss: 1.3515 - val_v_loss: 0.0393 - val_p_acc: 0.4493\n",
      "\n",
      "Epoch 00010: val_loss did not improve from 1.38783\n",
      "Epoch 11/100\n",
      "600000/600000 [==============================] - 8s 13us/step - loss: 1.3887 - p_loss: 1.3497 - v_loss: 0.0390 - p_acc: 0.4505 - val_loss: 1.3954 - val_p_loss: 1.3566 - val_v_loss: 0.0388 - val_p_acc: 0.4453\n",
      "\n",
      "Epoch 00011: val_loss did not improve from 1.38783\n",
      "Epoch 12/100\n",
      "600000/600000 [==============================] - 8s 13us/step - loss: 1.3896 - p_loss: 1.3506 - v_loss: 0.0390 - p_acc: 0.4501 - val_loss: 1.3939 - val_p_loss: 1.3551 - val_v_loss: 0.0388 - val_p_acc: 0.4462\n",
      "\n",
      "Epoch 00012: val_loss did not improve from 1.38783\n",
      "Epoch 13/100\n",
      "600000/600000 [==============================] - 8s 14us/step - loss: 1.3885 - p_loss: 1.3493 - v_loss: 0.0392 - p_acc: 0.4511 - val_loss: 1.3951 - val_p_loss: 1.3575 - val_v_loss: 0.0376 - val_p_acc: 0.4441\n",
      "\n",
      "Epoch 00013: val_loss did not improve from 1.38783\n",
      "Epoch 14/100\n",
      "600000/600000 [==============================] - 8s 13us/step - loss: 1.3875 - p_loss: 1.3485 - v_loss: 0.0390 - p_acc: 0.4512 - val_loss: 1.3879 - val_p_loss: 1.3499 - val_v_loss: 0.0380 - val_p_acc: 0.4500\n",
      "\n",
      "Epoch 00014: val_loss did not improve from 1.38783\n",
      "Epoch 00014: early stopping\n"
     ]
    }
   ],
   "source": [
    "history = model.fit(x_train, [p_train, v_train], batch_size=512, epochs=100, validation_data=(x_test, [p_test, v_test]), callbacks=callbacks)"
   ]
  },
  {
   "cell_type": "code",
   "execution_count": 8,
   "metadata": {},
   "outputs": [
    {
     "data": {
      "text/plain": [
       "Text(0.5,1,'Value MSE')"
      ]
     },
     "execution_count": 8,
     "metadata": {},
     "output_type": "execute_result"
    },
    {
     "data": {
      "image/png": "[encoded data removed]",
      "text/plain": [
       "<Figure size 1152x432 with 2 Axes>"
      ]
     },
     "metadata": {},
     "output_type": "display_data"
    }
   ],
   "source": [
    "plt.figure(figsize=(16,6))\n",
    "plt.subplot(1, 2, 1)\n",
    "plt.plot(history.history['p_acc'])\n",
    "plt.plot(history.history['val_p_acc'])\n",
    "plt.legend(['Train', 'Validation'])\n",
    "plt.title(\"Action prediction accuracy\")\n",
    "plt.subplot(1, 2, 2)\n",
    "plt.plot(history.history['v_loss'])\n",
    "plt.plot(history.history['val_v_loss'])\n",
    "plt.legend(['Train', 'Validation'])\n",
    "plt.title(\"Value MSE\")"
   ]
  },
  {
   "cell_type": "code",
   "execution_count": 9,
   "metadata": {},
   "outputs": [
    {
     "name": "stdout",
     "output_type": "stream",
     "text": [
      "Accuracy train: 0.455025\n",
      "Accuracy test: 0.4500125\n",
      "Explained variance train: 0.30290027553922894\n",
      "Explained variance test: 0.29880257607623073\n"
     ]
    }
   ],
   "source": [
    "model.save('linear_single_disc0.9_final.h5')\n",
    "p_train_pred, v_train_pred = model.predict(x_train, batch_size=2048)\n",
    "p_test_pred, v_test_pred = model.predict(x_test, batch_size=2048)\n",
    "act_train_pred = np.argmax(p_train_pred, axis=1)\n",
    "act_test_pred = np.argmax(p_test_pred, axis=1)\n",
    "print(\"Accuracy train:\", accuracy_score(p_train, act_train_pred))\n",
    "print(\"Accuracy test:\", accuracy_score(p_test, act_test_pred))\n",
    "print(\"Explained variance train:\", explained_variance_score(v_train, v_train_pred))\n",
    "print(\"Explained variance test:\", explained_variance_score(v_test, v_test_pred))"
   ]
  },
  {
   "cell_type": "code",
   "execution_count": 10,
   "metadata": {},
   "outputs": [
    {
     "name": "stdout",
     "output_type": "stream",
     "text": [
      "Accuracy train: 0.4552366666666667\n",
      "Accuracy test: 0.4524625\n",
      "Explained variance train: 0.31008769950553317\n",
      "Explained variance test: 0.3071656058652934\n"
     ]
    }
   ],
   "source": [
    "model = load_model('linear_single_disc0.9_best.h5')\n",
    "p_train_pred, v_train_pred = model.predict(x_train, batch_size=2048)\n",
    "p_test_pred, v_test_pred = model.predict(x_test, batch_size=2048)\n",
    "act_train_pred = np.argmax(p_train_pred, axis=1)\n",
    "act_test_pred = np.argmax(p_test_pred, axis=1)\n",
    "print(\"Accuracy train:\", accuracy_score(p_train, act_train_pred))\n",
    "print(\"Accuracy test:\", accuracy_score(p_test, act_test_pred))\n",
    "print(\"Explained variance train:\", explained_variance_score(v_train, v_train_pred))\n",
    "print(\"Explained variance test:\", explained_variance_score(v_test, v_test_pred))"
   ]
  },
  {
   "cell_type": "code",
   "execution_count": null,
   "metadata": {},
   "outputs": [],
   "source": []
  }
 ],
 "metadata": {
  "kernelspec": {
   "display_name": "Python (pommer)",
   "language": "python",
   "name": "pommer"
  },
  "language_info": {
   "codemirror_mode": {
    "name": "ipython",
    "version": 3
   },
   "file_extension": ".py",
   "mimetype": "text/x-python",
   "name": "python",
   "nbconvert_exporter": "python",
   "pygments_lexer": "ipython3",
   "version": "3.6.5"
  }
 },
 "nbformat": 4,
 "nbformat_minor": 2
}

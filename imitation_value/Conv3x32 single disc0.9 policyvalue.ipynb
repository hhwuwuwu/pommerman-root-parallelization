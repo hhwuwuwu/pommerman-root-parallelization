{
 "cells": [
  {
   "cell_type": "code",
   "execution_count": 1,
   "metadata": {},
   "outputs": [
    {
     "name": "stderr",
     "output_type": "stream",
     "text": [
      "/home/tambet/.conda/envs/pommer/lib/python3.6/site-packages/h5py/__init__.py:36: FutureWarning: Conversion of the second argument of issubdtype from `float` to `np.floating` is deprecated. In future, it will be treated as `np.float64 == np.dtype(float).type`.\n",
      "  from ._conv import register_converters as _register_converters\n",
      "Using TensorFlow backend.\n"
     ]
    }
   ],
   "source": [
    "import numpy as np\n",
    "from keras.models import Model, load_model\n",
    "from keras.layers import Input, Conv2D, Flatten, Dense\n",
    "from keras.callbacks import ModelCheckpoint, EarlyStopping\n",
    "import tensorflow as tf\n",
    "import keras.backend as K\n",
    "from sklearn.metrics import explained_variance_score, accuracy_score\n",
    "import matplotlib.pyplot as plt\n",
    "%matplotlib inline"
   ]
  },
  {
   "cell_type": "code",
   "execution_count": 2,
   "metadata": {},
   "outputs": [],
   "source": [
    "# make sure TF does not allocate all memory\n",
    "config = tf.ConfigProto()\n",
    "config.gpu_options.allow_growth = True\n",
    "K.set_session(tf.Session(config=config))"
   ]
  },
  {
   "cell_type": "code",
   "execution_count": 3,
   "metadata": {},
   "outputs": [
    {
     "data": {
      "text/plain": [
       "((600000, 11, 11, 18), (600000,), (600000,))"
      ]
     },
     "execution_count": 3,
     "metadata": {},
     "output_type": "execute_result"
    }
   ],
   "source": [
    "data = np.load('single_600K_disc0.9.npz')\n",
    "x_train = data['observations']\n",
    "p_train = data['actions']\n",
    "v_train = data['rewards']\n",
    "x_train.shape, p_train.shape, v_train.shape"
   ]
  },
  {
   "cell_type": "code",
   "execution_count": 4,
   "metadata": {},
   "outputs": [
    {
     "data": {
      "text/plain": [
       "((80000, 11, 11, 18), (80000,), (80000,))"
      ]
     },
     "execution_count": 4,
     "metadata": {},
     "output_type": "execute_result"
    }
   ],
   "source": [
    "data = np.load('valid_single_80K_disc0.9.npz')\n",
    "x_test = data['observations']\n",
    "p_test = data['actions']\n",
    "v_test = data['rewards']\n",
    "x_test.shape, p_test.shape, v_test.shape"
   ]
  },
  {
   "cell_type": "code",
   "execution_count": 5,
   "metadata": {},
   "outputs": [
    {
     "name": "stdout",
     "output_type": "stream",
     "text": [
      "__________________________________________________________________________________________________\n",
      "Layer (type)                    Output Shape         Param #     Connected to                     \n",
      "==================================================================================================\n",
      "input_1 (InputLayer)            (None, 11, 11, 18)   0                                            \n",
      "__________________________________________________________________________________________________\n",
      "conv2d_1 (Conv2D)               (None, 11, 11, 32)   5216        input_1[0][0]                    \n",
      "__________________________________________________________________________________________________\n",
      "conv2d_2 (Conv2D)               (None, 11, 11, 32)   9248        conv2d_1[0][0]                   \n",
      "__________________________________________________________________________________________________\n",
      "conv2d_3 (Conv2D)               (None, 11, 11, 32)   9248        conv2d_2[0][0]                   \n",
      "__________________________________________________________________________________________________\n",
      "flatten_1 (Flatten)             (None, 3872)         0           conv2d_3[0][0]                   \n",
      "__________________________________________________________________________________________________\n",
      "p (Dense)                       (None, 6)            23238       flatten_1[0][0]                  \n",
      "__________________________________________________________________________________________________\n",
      "v (Dense)                       (None, 1)            3873        flatten_1[0][0]                  \n",
      "==================================================================================================\n",
      "Total params: 50,823\n",
      "Trainable params: 50,823\n",
      "Non-trainable params: 0\n",
      "__________________________________________________________________________________________________\n"
     ]
    }
   ],
   "source": [
    "c = x = Input(shape=(11,11,18))\n",
    "c = Conv2D(filters=32, kernel_size=3, strides=1, activation=\"relu\", padding=\"same\")(c)\n",
    "c = Conv2D(filters=32, kernel_size=3, strides=1, activation=\"relu\", padding=\"same\")(c)\n",
    "c = Conv2D(filters=32, kernel_size=3, strides=1, activation=\"relu\", padding=\"same\")(c)\n",
    "h = Flatten()(c)\n",
    "#h = Dense(128, activation='relu')(h)\n",
    "p = Dense(6, activation=\"softmax\", name='p')(h)\n",
    "#h = Dense(128, activation='relu')(h)\n",
    "v = Dense(1, activation=\"tanh\", name='v')(h)\n",
    "model = Model(x, [p, v])\n",
    "model.summary()\n",
    "model.compile(optimizer='adam', loss=['sparse_categorical_crossentropy', 'mse'], metrics={'p': 'accuracy'})"
   ]
  },
  {
   "cell_type": "code",
   "execution_count": 6,
   "metadata": {},
   "outputs": [],
   "source": [
    "callbacks = [\n",
    "    ModelCheckpoint('conv32_single_disc0.9_best.h5', monitor='val_loss', verbose=1, save_best_only=True, mode='auto'),\n",
    "    EarlyStopping(monitor='val_loss', min_delta=0.001, patience=5, verbose=1, mode='auto')\n",
    "]"
   ]
  },
  {
   "cell_type": "code",
   "execution_count": 7,
   "metadata": {
    "scrolled": false
   },
   "outputs": [
    {
     "name": "stdout",
     "output_type": "stream",
     "text": [
      "Train on 600000 samples, validate on 80000 samples\n",
      "Epoch 1/100\n",
      "600000/600000 [==============================] - 34s 57us/step - loss: 1.1296 - p_loss: 1.0919 - v_loss: 0.0377 - p_acc: 0.5431 - val_loss: 0.8051 - val_p_loss: 0.7707 - val_v_loss: 0.0344 - val_p_acc: 0.6728\n",
      "\n",
      "Epoch 00001: val_loss improved from inf to 0.80511, saving model to conv32_single_disc0.9_best.h5\n",
      "Epoch 2/100\n",
      "600000/600000 [==============================] - 32s 53us/step - loss: 0.7009 - p_loss: 0.6686 - v_loss: 0.0323 - p_acc: 0.7024 - val_loss: 0.6538 - val_p_loss: 0.6230 - val_v_loss: 0.0308 - val_p_acc: 0.7140\n",
      "\n",
      "Epoch 00002: val_loss improved from 0.80511 to 0.65381, saving model to conv32_single_disc0.9_best.h5\n",
      "Epoch 3/100\n",
      "600000/600000 [==============================] - 32s 53us/step - loss: 0.6266 - p_loss: 0.5966 - v_loss: 0.0300 - p_acc: 0.7271 - val_loss: 0.6142 - val_p_loss: 0.5852 - val_v_loss: 0.0290 - val_p_acc: 0.7304\n",
      "\n",
      "Epoch 00003: val_loss improved from 0.65381 to 0.61416, saving model to conv32_single_disc0.9_best.h5\n",
      "Epoch 4/100\n",
      "600000/600000 [==============================] - 32s 53us/step - loss: 0.5947 - p_loss: 0.5659 - v_loss: 0.0288 - p_acc: 0.7377 - val_loss: 0.5941 - val_p_loss: 0.5651 - val_v_loss: 0.0290 - val_p_acc: 0.7369\n",
      "\n",
      "Epoch 00004: val_loss improved from 0.61416 to 0.59413, saving model to conv32_single_disc0.9_best.h5\n",
      "Epoch 5/100\n",
      "600000/600000 [==============================] - 32s 53us/step - loss: 0.5754 - p_loss: 0.5474 - v_loss: 0.0280 - p_acc: 0.7441 - val_loss: 0.5849 - val_p_loss: 0.5564 - val_v_loss: 0.0285 - val_p_acc: 0.7390\n",
      "\n",
      "Epoch 00005: val_loss improved from 0.59413 to 0.58486, saving model to conv32_single_disc0.9_best.h5\n",
      "Epoch 6/100\n",
      "600000/600000 [==============================] - 32s 53us/step - loss: 0.5615 - p_loss: 0.5340 - v_loss: 0.0275 - p_acc: 0.7484 - val_loss: 0.5697 - val_p_loss: 0.5425 - val_v_loss: 0.0272 - val_p_acc: 0.7419\n",
      "\n",
      "Epoch 00006: val_loss improved from 0.58486 to 0.56969, saving model to conv32_single_disc0.9_best.h5\n",
      "Epoch 7/100\n",
      "600000/600000 [==============================] - 32s 53us/step - loss: 0.5512 - p_loss: 0.5242 - v_loss: 0.0270 - p_acc: 0.7519 - val_loss: 0.5640 - val_p_loss: 0.5363 - val_v_loss: 0.0277 - val_p_acc: 0.7438\n",
      "\n",
      "Epoch 00007: val_loss improved from 0.56969 to 0.56401, saving model to conv32_single_disc0.9_best.h5\n",
      "Epoch 8/100\n",
      "600000/600000 [==============================] - 32s 53us/step - loss: 0.5422 - p_loss: 0.5155 - v_loss: 0.0267 - p_acc: 0.7549 - val_loss: 0.5535 - val_p_loss: 0.5264 - val_v_loss: 0.0271 - val_p_acc: 0.7487\n",
      "\n",
      "Epoch 00008: val_loss improved from 0.56401 to 0.55349, saving model to conv32_single_disc0.9_best.h5\n",
      "Epoch 9/100\n",
      "600000/600000 [==============================] - 32s 53us/step - loss: 0.5355 - p_loss: 0.5092 - v_loss: 0.0264 - p_acc: 0.7573 - val_loss: 0.5544 - val_p_loss: 0.5273 - val_v_loss: 0.0271 - val_p_acc: 0.7479\n",
      "\n",
      "Epoch 00009: val_loss did not improve from 0.55349\n",
      "Epoch 10/100\n",
      "600000/600000 [==============================] - 32s 53us/step - loss: 0.5295 - p_loss: 0.5031 - v_loss: 0.0263 - p_acc: 0.7596 - val_loss: 0.5490 - val_p_loss: 0.5222 - val_v_loss: 0.0268 - val_p_acc: 0.7486\n",
      "\n",
      "Epoch 00010: val_loss improved from 0.55349 to 0.54903, saving model to conv32_single_disc0.9_best.h5\n",
      "Epoch 11/100\n",
      "600000/600000 [==============================] - 32s 53us/step - loss: 0.5243 - p_loss: 0.4981 - v_loss: 0.0261 - p_acc: 0.7611 - val_loss: 0.5476 - val_p_loss: 0.5211 - val_v_loss: 0.0266 - val_p_acc: 0.7508\n",
      "\n",
      "Epoch 00011: val_loss improved from 0.54903 to 0.54762, saving model to conv32_single_disc0.9_best.h5\n",
      "Epoch 12/100\n",
      "600000/600000 [==============================] - 32s 53us/step - loss: 0.5198 - p_loss: 0.4937 - v_loss: 0.0261 - p_acc: 0.7633 - val_loss: 0.5462 - val_p_loss: 0.5190 - val_v_loss: 0.0272 - val_p_acc: 0.7519\n",
      "\n",
      "Epoch 00012: val_loss improved from 0.54762 to 0.54619, saving model to conv32_single_disc0.9_best.h5\n",
      "Epoch 13/100\n",
      "600000/600000 [==============================] - 32s 53us/step - loss: 0.5153 - p_loss: 0.4893 - v_loss: 0.0260 - p_acc: 0.7653 - val_loss: 0.5378 - val_p_loss: 0.5115 - val_v_loss: 0.0264 - val_p_acc: 0.7525\n",
      "\n",
      "Epoch 00013: val_loss improved from 0.54619 to 0.53781, saving model to conv32_single_disc0.9_best.h5\n",
      "Epoch 14/100\n",
      "600000/600000 [==============================] - 37s 62us/step - loss: 0.5127 - p_loss: 0.4868 - v_loss: 0.0259 - p_acc: 0.7660 - val_loss: 0.5437 - val_p_loss: 0.5173 - val_v_loss: 0.0264 - val_p_acc: 0.7489\n",
      "\n",
      "Epoch 00014: val_loss did not improve from 0.53781\n",
      "Epoch 15/100\n",
      "600000/600000 [==============================] - 47s 78us/step - loss: 0.5098 - p_loss: 0.4840 - v_loss: 0.0258 - p_acc: 0.7672 - val_loss: 0.5504 - val_p_loss: 0.5219 - val_v_loss: 0.0284 - val_p_acc: 0.7519\n",
      "\n",
      "Epoch 00015: val_loss did not improve from 0.53781\n",
      "Epoch 16/100\n",
      "600000/600000 [==============================] - 44s 73us/step - loss: 0.5069 - p_loss: 0.4811 - v_loss: 0.0258 - p_acc: 0.7690 - val_loss: 0.5372 - val_p_loss: 0.5108 - val_v_loss: 0.0264 - val_p_acc: 0.7539\n",
      "\n",
      "Epoch 00016: val_loss improved from 0.53781 to 0.53724, saving model to conv32_single_disc0.9_best.h5\n",
      "Epoch 17/100\n",
      "600000/600000 [==============================] - 40s 67us/step - loss: 0.5042 - p_loss: 0.4784 - v_loss: 0.0258 - p_acc: 0.7695 - val_loss: 0.5405 - val_p_loss: 0.5140 - val_v_loss: 0.0265 - val_p_acc: 0.7510\n",
      "\n",
      "Epoch 00017: val_loss did not improve from 0.53724\n",
      "Epoch 18/100\n",
      "600000/600000 [==============================] - 36s 60us/step - loss: 0.5025 - p_loss: 0.4767 - v_loss: 0.0258 - p_acc: 0.7699 - val_loss: 0.5358 - val_p_loss: 0.5090 - val_v_loss: 0.0267 - val_p_acc: 0.7529\n",
      "\n",
      "Epoch 00018: val_loss improved from 0.53724 to 0.53576, saving model to conv32_single_disc0.9_best.h5\n",
      "Epoch 19/100\n",
      "600000/600000 [==============================] - 36s 61us/step - loss: 0.5002 - p_loss: 0.4745 - v_loss: 0.0258 - p_acc: 0.7715 - val_loss: 0.5371 - val_p_loss: 0.5107 - val_v_loss: 0.0265 - val_p_acc: 0.7510\n",
      "\n",
      "Epoch 00019: val_loss did not improve from 0.53576\n",
      "Epoch 20/100\n",
      "600000/600000 [==============================] - 34s 56us/step - loss: 0.4987 - p_loss: 0.4730 - v_loss: 0.0257 - p_acc: 0.7722 - val_loss: 0.5370 - val_p_loss: 0.5107 - val_v_loss: 0.0263 - val_p_acc: 0.7523\n",
      "\n",
      "Epoch 00020: val_loss did not improve from 0.53576\n",
      "Epoch 21/100\n",
      "600000/600000 [==============================] - 33s 55us/step - loss: 0.4969 - p_loss: 0.4711 - v_loss: 0.0258 - p_acc: 0.7735 - val_loss: 0.5374 - val_p_loss: 0.5110 - val_v_loss: 0.0264 - val_p_acc: 0.7526\n",
      "\n",
      "Epoch 00021: val_loss did not improve from 0.53576\n",
      "Epoch 22/100\n",
      "600000/600000 [==============================] - 38s 63us/step - loss: 0.4948 - p_loss: 0.4691 - v_loss: 0.0257 - p_acc: 0.7738 - val_loss: 0.5361 - val_p_loss: 0.5096 - val_v_loss: 0.0264 - val_p_acc: 0.7534\n",
      "\n",
      "Epoch 00022: val_loss did not improve from 0.53576\n",
      "Epoch 23/100\n",
      "600000/600000 [==============================] - 35s 58us/step - loss: 0.4933 - p_loss: 0.4676 - v_loss: 0.0257 - p_acc: 0.7745 - val_loss: 0.5376 - val_p_loss: 0.5112 - val_v_loss: 0.0264 - val_p_acc: 0.7540\n",
      "\n",
      "Epoch 00023: val_loss did not improve from 0.53576\n",
      "Epoch 00023: early stopping\n"
     ]
    }
   ],
   "source": [
    "history = model.fit(x_train, [p_train, v_train], batch_size=512, epochs=100, validation_data=(x_test, [p_test, v_test]), callbacks=callbacks)"
   ]
  },
  {
   "cell_type": "code",
   "execution_count": 11,
   "metadata": {},
   "outputs": [
    {
     "data": {
      "text/plain": [
       "Text(0.5,1,'Value MSE')"
      ]
     },
     "execution_count": 11,
     "metadata": {},
     "output_type": "execute_result"
    },
    {
     "data": {
      "image/png": "[encoded data removed]",
      "text/plain": [
       "<Figure size 1152x432 with 2 Axes>"
      ]
     },
     "metadata": {},
     "output_type": "display_data"
    }
   ],
   "source": [
    "plt.figure(figsize=(16,6))\n",
    "plt.subplot(1, 2, 1)\n",
    "plt.plot(history.history['p_acc'])\n",
    "plt.plot(history.history['val_p_acc'])\n",
    "plt.legend(['Train', 'Validation'])\n",
    "plt.title(\"Action prediction accuracy\")\n",
    "plt.subplot(1, 2, 2)\n",
    "plt.plot(history.history['v_loss'])\n",
    "plt.plot(history.history['val_v_loss'])\n",
    "plt.legend(['Train', 'Validation'])\n",
    "plt.title(\"Value MSE\")"
   ]
  },
  {
   "cell_type": "code",
   "execution_count": 9,
   "metadata": {},
   "outputs": [
    {
     "name": "stdout",
     "output_type": "stream",
     "text": [
      "Accuracy train: 0.7789816666666667\n",
      "Accuracy test: 0.7540375\n",
      "Explained variance train: 0.5346630473021136\n",
      "Explained variance test: 0.5130718464867198\n"
     ]
    }
   ],
   "source": [
    "model.save('conv32_single_disc0.9_final.h5')\n",
    "p_train_pred, v_train_pred = model.predict(x_train, batch_size=2048)\n",
    "p_test_pred, v_test_pred = model.predict(x_test, batch_size=2048)\n",
    "act_train_pred = np.argmax(p_train_pred, axis=1)\n",
    "act_test_pred = np.argmax(p_test_pred, axis=1)\n",
    "print(\"Accuracy train:\", accuracy_score(p_train, act_train_pred))\n",
    "print(\"Accuracy test:\", accuracy_score(p_test, act_test_pred))\n",
    "print(\"Explained variance train:\", explained_variance_score(v_train, v_train_pred))\n",
    "print(\"Explained variance test:\", explained_variance_score(v_test, v_test_pred))"
   ]
  },
  {
   "cell_type": "code",
   "execution_count": 10,
   "metadata": {},
   "outputs": [
    {
     "name": "stdout",
     "output_type": "stream",
     "text": [
      "Accuracy train: 0.7764483333333333\n",
      "Accuracy test: 0.7529375\n",
      "Explained variance train: 0.5300413550861325\n",
      "Explained variance test: 0.5077427035825101\n"
     ]
    }
   ],
   "source": [
    "model = load_model('conv32_single_disc0.9_best.h5')\n",
    "p_train_pred, v_train_pred = model.predict(x_train, batch_size=2048)\n",
    "p_test_pred, v_test_pred = model.predict(x_test, batch_size=2048)\n",
    "act_train_pred = np.argmax(p_train_pred, axis=1)\n",
    "act_test_pred = np.argmax(p_test_pred, axis=1)\n",
    "print(\"Accuracy train:\", accuracy_score(p_train, act_train_pred))\n",
    "print(\"Accuracy test:\", accuracy_score(p_test, act_test_pred))\n",
    "print(\"Explained variance train:\", explained_variance_score(v_train, v_train_pred))\n",
    "print(\"Explained variance test:\", explained_variance_score(v_test, v_test_pred))"
   ]
  },
  {
   "cell_type": "code",
   "execution_count": null,
   "metadata": {},
   "outputs": [],
   "source": []
  }
 ],
 "metadata": {
  "kernelspec": {
   "display_name": "Python (pommer)",
   "language": "python",
   "name": "pommer"
  },
  "language_info": {
   "codemirror_mode": {
    "name": "ipython",
    "version": 3
   },
   "file_extension": ".py",
   "mimetype": "text/x-python",
   "name": "python",
   "nbconvert_exporter": "python",
   "pygments_lexer": "ipython3",
   "version": "3.6.5"
  }
 },
 "nbformat": 4,
 "nbformat_minor": 2
}

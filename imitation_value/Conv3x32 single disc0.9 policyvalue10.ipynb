{
 "cells": [
  {
   "cell_type": "code",
   "execution_count": 1,
   "metadata": {},
   "outputs": [
    {
     "name": "stderr",
     "output_type": "stream",
     "text": [
      "/home/tambet/.conda/envs/pommer/lib/python3.6/site-packages/h5py/__init__.py:36: FutureWarning: Conversion of the second argument of issubdtype from `float` to `np.floating` is deprecated. In future, it will be treated as `np.float64 == np.dtype(float).type`.\n",
      "  from ._conv import register_converters as _register_converters\n",
      "Using TensorFlow backend.\n"
     ]
    }
   ],
   "source": [
    "import numpy as np\n",
    "from keras.models import Model, load_model\n",
    "from keras.layers import Input, Conv2D, Flatten, Dense\n",
    "from keras.callbacks import ModelCheckpoint, EarlyStopping\n",
    "import tensorflow as tf\n",
    "import keras.backend as K\n",
    "from sklearn.metrics import explained_variance_score, accuracy_score\n",
    "import matplotlib.pyplot as plt\n",
    "%matplotlib inline"
   ]
  },
  {
   "cell_type": "code",
   "execution_count": 2,
   "metadata": {},
   "outputs": [],
   "source": [
    "# make sure TF does not allocate all memory\n",
    "config = tf.ConfigProto()\n",
    "config.gpu_options.allow_growth = True\n",
    "K.set_session(tf.Session(config=config))"
   ]
  },
  {
   "cell_type": "code",
   "execution_count": 3,
   "metadata": {},
   "outputs": [
    {
     "data": {
      "text/plain": [
       "((600000, 11, 11, 18), (600000,), (600000,))"
      ]
     },
     "execution_count": 3,
     "metadata": {},
     "output_type": "execute_result"
    }
   ],
   "source": [
    "data = np.load('single_600K_disc0.9.npz')\n",
    "x_train = data['observations']\n",
    "p_train = data['actions']\n",
    "v_train = data['rewards']\n",
    "x_train.shape, p_train.shape, v_train.shape"
   ]
  },
  {
   "cell_type": "code",
   "execution_count": 4,
   "metadata": {},
   "outputs": [
    {
     "data": {
      "text/plain": [
       "((80000, 11, 11, 18), (80000,), (80000,))"
      ]
     },
     "execution_count": 4,
     "metadata": {},
     "output_type": "execute_result"
    }
   ],
   "source": [
    "data = np.load('valid_single_80K_disc0.9.npz')\n",
    "x_test = data['observations']\n",
    "p_test = data['actions']\n",
    "v_test = data['rewards']\n",
    "x_test.shape, p_test.shape, v_test.shape"
   ]
  },
  {
   "cell_type": "code",
   "execution_count": 5,
   "metadata": {},
   "outputs": [
    {
     "name": "stdout",
     "output_type": "stream",
     "text": [
      "__________________________________________________________________________________________________\n",
      "Layer (type)                    Output Shape         Param #     Connected to                     \n",
      "==================================================================================================\n",
      "input_1 (InputLayer)            (None, 11, 11, 18)   0                                            \n",
      "__________________________________________________________________________________________________\n",
      "conv2d_1 (Conv2D)               (None, 11, 11, 32)   5216        input_1[0][0]                    \n",
      "__________________________________________________________________________________________________\n",
      "conv2d_2 (Conv2D)               (None, 11, 11, 32)   9248        conv2d_1[0][0]                   \n",
      "__________________________________________________________________________________________________\n",
      "conv2d_3 (Conv2D)               (None, 11, 11, 32)   9248        conv2d_2[0][0]                   \n",
      "__________________________________________________________________________________________________\n",
      "flatten_1 (Flatten)             (None, 3872)         0           conv2d_3[0][0]                   \n",
      "__________________________________________________________________________________________________\n",
      "p (Dense)                       (None, 6)            23238       flatten_1[0][0]                  \n",
      "__________________________________________________________________________________________________\n",
      "v (Dense)                       (None, 1)            3873        flatten_1[0][0]                  \n",
      "==================================================================================================\n",
      "Total params: 50,823\n",
      "Trainable params: 50,823\n",
      "Non-trainable params: 0\n",
      "__________________________________________________________________________________________________\n"
     ]
    }
   ],
   "source": [
    "c = x = Input(shape=(11,11,18))\n",
    "c = Conv2D(filters=32, kernel_size=3, strides=1, activation=\"relu\", padding=\"same\")(c)\n",
    "c = Conv2D(filters=32, kernel_size=3, strides=1, activation=\"relu\", padding=\"same\")(c)\n",
    "c = Conv2D(filters=32, kernel_size=3, strides=1, activation=\"relu\", padding=\"same\")(c)\n",
    "h = Flatten()(c)\n",
    "#h = Dense(128, activation='relu')(h)\n",
    "p = Dense(6, activation=\"softmax\", name='p')(h)\n",
    "#h = Dense(128, activation='relu')(h)\n",
    "v = Dense(1, activation=\"tanh\", name='v')(h)\n",
    "model = Model(x, [p, v])\n",
    "model.summary()\n",
    "model.compile(optimizer='adam', loss=['sparse_categorical_crossentropy', 'mse'], loss_weights=[1, 10], metrics={'p': 'accuracy'})"
   ]
  },
  {
   "cell_type": "code",
   "execution_count": 6,
   "metadata": {},
   "outputs": [],
   "source": [
    "callbacks = [\n",
    "    ModelCheckpoint('conv32_single_value10_disc0.9_best.h5', monitor='val_loss', verbose=1, save_best_only=True, mode='auto'),\n",
    "    EarlyStopping(monitor='val_loss', min_delta=0.001, patience=5, verbose=1, mode='auto')\n",
    "]"
   ]
  },
  {
   "cell_type": "code",
   "execution_count": 7,
   "metadata": {
    "scrolled": false
   },
   "outputs": [
    {
     "name": "stdout",
     "output_type": "stream",
     "text": [
      "Train on 600000 samples, validate on 80000 samples\n",
      "Epoch 1/100\n",
      "600000/600000 [==============================] - 38s 63us/step - loss: 1.5367 - p_loss: 1.2172 - v_loss: 0.0320 - p_acc: 0.4897 - val_loss: 1.1815 - val_p_loss: 0.9080 - val_v_loss: 0.0274 - val_p_acc: 0.6158\n",
      "\n",
      "Epoch 00001: val_loss improved from inf to 1.18149, saving model to conv32_single_value10_disc0.9_best.h5\n",
      "Epoch 2/100\n",
      "600000/600000 [==============================] - 34s 56us/step - loss: 0.9963 - p_loss: 0.7321 - v_loss: 0.0264 - p_acc: 0.6827 - val_loss: 0.9013 - val_p_loss: 0.6434 - val_v_loss: 0.0258 - val_p_acc: 0.7119\n",
      "\n",
      "Epoch 00002: val_loss improved from 1.18149 to 0.90129, saving model to conv32_single_value10_disc0.9_best.h5\n",
      "Epoch 3/100\n",
      "600000/600000 [==============================] - 34s 56us/step - loss: 0.8642 - p_loss: 0.6158 - v_loss: 0.0248 - p_acc: 0.7220 - val_loss: 0.8527 - val_p_loss: 0.6003 - val_v_loss: 0.0252 - val_p_acc: 0.7230\n",
      "\n",
      "Epoch 00003: val_loss improved from 0.90129 to 0.85273, saving model to conv32_single_value10_disc0.9_best.h5\n",
      "Epoch 4/100\n",
      "600000/600000 [==============================] - 34s 56us/step - loss: 0.8229 - p_loss: 0.5816 - v_loss: 0.0241 - p_acc: 0.7341 - val_loss: 0.8333 - val_p_loss: 0.5914 - val_v_loss: 0.0242 - val_p_acc: 0.7290\n",
      "\n",
      "Epoch 00004: val_loss improved from 0.85273 to 0.83334, saving model to conv32_single_value10_disc0.9_best.h5\n",
      "Epoch 5/100\n",
      "600000/600000 [==============================] - 34s 56us/step - loss: 0.7971 - p_loss: 0.5613 - v_loss: 0.0236 - p_acc: 0.7405 - val_loss: 0.8013 - val_p_loss: 0.5627 - val_v_loss: 0.0239 - val_p_acc: 0.7374\n",
      "\n",
      "Epoch 00005: val_loss improved from 0.83334 to 0.80133, saving model to conv32_single_value10_disc0.9_best.h5\n",
      "Epoch 6/100\n",
      "600000/600000 [==============================] - 34s 56us/step - loss: 0.7793 - p_loss: 0.5466 - v_loss: 0.0233 - p_acc: 0.7456 - val_loss: 0.7926 - val_p_loss: 0.5538 - val_v_loss: 0.0239 - val_p_acc: 0.7395\n",
      "\n",
      "Epoch 00006: val_loss improved from 0.80133 to 0.79264, saving model to conv32_single_value10_disc0.9_best.h5\n",
      "Epoch 7/100\n",
      "600000/600000 [==============================] - 34s 56us/step - loss: 0.7642 - p_loss: 0.5348 - v_loss: 0.0229 - p_acc: 0.7498 - val_loss: 0.7820 - val_p_loss: 0.5473 - val_v_loss: 0.0235 - val_p_acc: 0.7414\n",
      "\n",
      "Epoch 00007: val_loss improved from 0.79264 to 0.78201, saving model to conv32_single_value10_disc0.9_best.h5\n",
      "Epoch 8/100\n",
      "600000/600000 [==============================] - 34s 56us/step - loss: 0.7527 - p_loss: 0.5256 - v_loss: 0.0227 - p_acc: 0.7526 - val_loss: 0.7813 - val_p_loss: 0.5414 - val_v_loss: 0.0240 - val_p_acc: 0.7437\n",
      "\n",
      "Epoch 00008: val_loss improved from 0.78201 to 0.78130, saving model to conv32_single_value10_disc0.9_best.h5\n",
      "Epoch 9/100\n",
      "600000/600000 [==============================] - 34s 56us/step - loss: 0.7432 - p_loss: 0.5187 - v_loss: 0.0225 - p_acc: 0.7547 - val_loss: 0.7663 - val_p_loss: 0.5329 - val_v_loss: 0.0233 - val_p_acc: 0.7462\n",
      "\n",
      "Epoch 00009: val_loss improved from 0.78130 to 0.76626, saving model to conv32_single_value10_disc0.9_best.h5\n",
      "Epoch 10/100\n",
      "600000/600000 [==============================] - 34s 56us/step - loss: 0.7345 - p_loss: 0.5122 - v_loss: 0.0222 - p_acc: 0.7573 - val_loss: 0.7563 - val_p_loss: 0.5256 - val_v_loss: 0.0231 - val_p_acc: 0.7492\n",
      "\n",
      "Epoch 00010: val_loss improved from 0.76626 to 0.75630, saving model to conv32_single_value10_disc0.9_best.h5\n",
      "Epoch 11/100\n",
      "600000/600000 [==============================] - 34s 56us/step - loss: 0.7283 - p_loss: 0.5073 - v_loss: 0.0221 - p_acc: 0.7585 - val_loss: 0.7509 - val_p_loss: 0.5219 - val_v_loss: 0.0229 - val_p_acc: 0.7501\n",
      "\n",
      "Epoch 00011: val_loss improved from 0.75630 to 0.75090, saving model to conv32_single_value10_disc0.9_best.h5\n",
      "Epoch 12/100\n",
      "600000/600000 [==============================] - 34s 56us/step - loss: 0.7221 - p_loss: 0.5027 - v_loss: 0.0219 - p_acc: 0.7604 - val_loss: 0.7540 - val_p_loss: 0.5224 - val_v_loss: 0.0232 - val_p_acc: 0.7500\n",
      "\n",
      "Epoch 00012: val_loss did not improve from 0.75090\n",
      "Epoch 13/100\n",
      "600000/600000 [==============================] - 34s 56us/step - loss: 0.7161 - p_loss: 0.4986 - v_loss: 0.0217 - p_acc: 0.7619 - val_loss: 0.7491 - val_p_loss: 0.5204 - val_v_loss: 0.0229 - val_p_acc: 0.7479\n",
      "\n",
      "Epoch 00013: val_loss improved from 0.75090 to 0.74913, saving model to conv32_single_value10_disc0.9_best.h5\n",
      "Epoch 14/100\n",
      "600000/600000 [==============================] - 34s 56us/step - loss: 0.7122 - p_loss: 0.4956 - v_loss: 0.0217 - p_acc: 0.7632 - val_loss: 0.7471 - val_p_loss: 0.5203 - val_v_loss: 0.0227 - val_p_acc: 0.7503\n",
      "\n",
      "Epoch 00014: val_loss improved from 0.74913 to 0.74709, saving model to conv32_single_value10_disc0.9_best.h5\n",
      "Epoch 15/100\n",
      "600000/600000 [==============================] - 34s 56us/step - loss: 0.7082 - p_loss: 0.4929 - v_loss: 0.0215 - p_acc: 0.7639 - val_loss: 0.7451 - val_p_loss: 0.5175 - val_v_loss: 0.0228 - val_p_acc: 0.7525\n",
      "\n",
      "Epoch 00015: val_loss improved from 0.74709 to 0.74512, saving model to conv32_single_value10_disc0.9_best.h5\n",
      "Epoch 16/100\n",
      "600000/600000 [==============================] - 34s 56us/step - loss: 0.7038 - p_loss: 0.4897 - v_loss: 0.0214 - p_acc: 0.7656 - val_loss: 0.7458 - val_p_loss: 0.5158 - val_v_loss: 0.0230 - val_p_acc: 0.7505\n",
      "\n",
      "Epoch 00016: val_loss did not improve from 0.74512\n",
      "Epoch 17/100\n",
      "600000/600000 [==============================] - 34s 56us/step - loss: 0.7010 - p_loss: 0.4876 - v_loss: 0.0213 - p_acc: 0.7663 - val_loss: 0.7410 - val_p_loss: 0.5126 - val_v_loss: 0.0228 - val_p_acc: 0.7522\n",
      "\n",
      "Epoch 00017: val_loss improved from 0.74512 to 0.74104, saving model to conv32_single_value10_disc0.9_best.h5\n",
      "Epoch 18/100\n",
      "600000/600000 [==============================] - 34s 56us/step - loss: 0.6975 - p_loss: 0.4852 - v_loss: 0.0212 - p_acc: 0.7673 - val_loss: 0.7423 - val_p_loss: 0.5133 - val_v_loss: 0.0229 - val_p_acc: 0.7535\n",
      "\n",
      "Epoch 00018: val_loss did not improve from 0.74104\n",
      "Epoch 19/100\n",
      "600000/600000 [==============================] - 35s 58us/step - loss: 0.6948 - p_loss: 0.4835 - v_loss: 0.0211 - p_acc: 0.7680 - val_loss: 0.7366 - val_p_loss: 0.5107 - val_v_loss: 0.0226 - val_p_acc: 0.7513\n",
      "\n",
      "Epoch 00019: val_loss improved from 0.74104 to 0.73658, saving model to conv32_single_value10_disc0.9_best.h5\n",
      "Epoch 20/100\n",
      "600000/600000 [==============================] - 42s 70us/step - loss: 0.6925 - p_loss: 0.4817 - v_loss: 0.0211 - p_acc: 0.7687 - val_loss: 0.7350 - val_p_loss: 0.5090 - val_v_loss: 0.0226 - val_p_acc: 0.7524\n",
      "\n",
      "Epoch 00020: val_loss improved from 0.73658 to 0.73504, saving model to conv32_single_value10_disc0.9_best.h5\n",
      "Epoch 21/100\n",
      "600000/600000 [==============================] - 39s 66us/step - loss: 0.6899 - p_loss: 0.4801 - v_loss: 0.0210 - p_acc: 0.7695 - val_loss: 0.7354 - val_p_loss: 0.5105 - val_v_loss: 0.0225 - val_p_acc: 0.7515\n",
      "\n",
      "Epoch 00021: val_loss did not improve from 0.73504\n",
      "Epoch 22/100\n",
      "600000/600000 [==============================] - 39s 66us/step - loss: 0.6871 - p_loss: 0.4782 - v_loss: 0.0209 - p_acc: 0.7697 - val_loss: 0.7319 - val_p_loss: 0.5048 - val_v_loss: 0.0227 - val_p_acc: 0.7550\n",
      "\n",
      "Epoch 00022: val_loss improved from 0.73504 to 0.73194, saving model to conv32_single_value10_disc0.9_best.h5\n",
      "Epoch 23/100\n",
      "600000/600000 [==============================] - 39s 65us/step - loss: 0.6846 - p_loss: 0.4766 - v_loss: 0.0208 - p_acc: 0.7709 - val_loss: 0.7326 - val_p_loss: 0.5061 - val_v_loss: 0.0227 - val_p_acc: 0.7528\n",
      "\n",
      "Epoch 00023: val_loss did not improve from 0.73194\n",
      "Epoch 24/100\n",
      "600000/600000 [==============================] - 34s 56us/step - loss: 0.6830 - p_loss: 0.4758 - v_loss: 0.0207 - p_acc: 0.7708 - val_loss: 0.7384 - val_p_loss: 0.5108 - val_v_loss: 0.0228 - val_p_acc: 0.7521\n",
      "\n",
      "Epoch 00024: val_loss did not improve from 0.73194\n",
      "Epoch 25/100\n",
      "600000/600000 [==============================] - 34s 56us/step - loss: 0.6810 - p_loss: 0.4741 - v_loss: 0.0207 - p_acc: 0.7718 - val_loss: 0.7366 - val_p_loss: 0.5076 - val_v_loss: 0.0229 - val_p_acc: 0.7540\n",
      "\n",
      "Epoch 00025: val_loss did not improve from 0.73194\n",
      "Epoch 26/100\n",
      "600000/600000 [==============================] - 34s 56us/step - loss: 0.6788 - p_loss: 0.4729 - v_loss: 0.0206 - p_acc: 0.7724 - val_loss: 0.7371 - val_p_loss: 0.5079 - val_v_loss: 0.0229 - val_p_acc: 0.7522\n",
      "\n",
      "Epoch 00026: val_loss did not improve from 0.73194\n",
      "Epoch 27/100\n"
     ]
    },
    {
     "name": "stdout",
     "output_type": "stream",
     "text": [
      "600000/600000 [==============================] - 35s 58us/step - loss: 0.6769 - p_loss: 0.4717 - v_loss: 0.0205 - p_acc: 0.7725 - val_loss: 0.7339 - val_p_loss: 0.5049 - val_v_loss: 0.0229 - val_p_acc: 0.7531\n",
      "\n",
      "Epoch 00027: val_loss did not improve from 0.73194\n",
      "Epoch 00027: early stopping\n"
     ]
    }
   ],
   "source": [
    "history = model.fit(x_train, [p_train, v_train], batch_size=512, epochs=100, validation_data=(x_test, [p_test, v_test]), callbacks=callbacks)"
   ]
  },
  {
   "cell_type": "code",
   "execution_count": 8,
   "metadata": {},
   "outputs": [
    {
     "data": {
      "text/plain": [
       "Text(0.5,1,'Value MSE')"
      ]
     },
     "execution_count": 8,
     "metadata": {},
     "output_type": "execute_result"
    },
    {
     "data": {
      "image/png": "[encoded data removed]",
      "text/plain": [
       "<Figure size 1152x432 with 2 Axes>"
      ]
     },
     "metadata": {},
     "output_type": "display_data"
    }
   ],
   "source": [
    "plt.figure(figsize=(16,6))\n",
    "plt.subplot(1, 2, 1)\n",
    "plt.plot(history.history['p_acc'])\n",
    "plt.plot(history.history['val_p_acc'])\n",
    "plt.legend(['Train', 'Validation'])\n",
    "plt.title(\"Action prediction accuracy\")\n",
    "plt.subplot(1, 2, 2)\n",
    "plt.plot(history.history['v_loss'])\n",
    "plt.plot(history.history['val_v_loss'])\n",
    "plt.legend(['Train', 'Validation'])\n",
    "plt.title(\"Value MSE\")"
   ]
  },
  {
   "cell_type": "code",
   "execution_count": 9,
   "metadata": {},
   "outputs": [
    {
     "name": "stdout",
     "output_type": "stream",
     "text": [
      "Accuracy train: 0.777255\n",
      "Accuracy test: 0.753075\n",
      "Explained variance train: 0.6318187422752511\n",
      "Explained variance test: 0.57810085184955\n"
     ]
    }
   ],
   "source": [
    "model.save('conv32_single_value10_disc0.9_final.h5')\n",
    "p_train_pred, v_train_pred = model.predict(x_train, batch_size=2048)\n",
    "p_test_pred, v_test_pred = model.predict(x_test, batch_size=2048)\n",
    "act_train_pred = np.argmax(p_train_pred, axis=1)\n",
    "act_test_pred = np.argmax(p_test_pred, axis=1)\n",
    "print(\"Accuracy train:\", accuracy_score(p_train, act_train_pred))\n",
    "print(\"Accuracy test:\", accuracy_score(p_test, act_test_pred))\n",
    "print(\"Explained variance train:\", explained_variance_score(v_train, v_train_pred))\n",
    "print(\"Explained variance test:\", explained_variance_score(v_test, v_test_pred))"
   ]
  },
  {
   "cell_type": "code",
   "execution_count": 10,
   "metadata": {},
   "outputs": [
    {
     "name": "stdout",
     "output_type": "stream",
     "text": [
      "Accuracy train: 0.7756616666666667\n",
      "Accuracy test: 0.755\n",
      "Explained variance train: 0.6250525274666352\n",
      "Explained variance test: 0.5811207070391531\n"
     ]
    }
   ],
   "source": [
    "model = load_model('conv32_single_value10_disc0.9_best.h5')\n",
    "p_train_pred, v_train_pred = model.predict(x_train, batch_size=2048)\n",
    "p_test_pred, v_test_pred = model.predict(x_test, batch_size=2048)\n",
    "act_train_pred = np.argmax(p_train_pred, axis=1)\n",
    "act_test_pred = np.argmax(p_test_pred, axis=1)\n",
    "print(\"Accuracy train:\", accuracy_score(p_train, act_train_pred))\n",
    "print(\"Accuracy test:\", accuracy_score(p_test, act_test_pred))\n",
    "print(\"Explained variance train:\", explained_variance_score(v_train, v_train_pred))\n",
    "print(\"Explained variance test:\", explained_variance_score(v_test, v_test_pred))"
   ]
  },
  {
   "cell_type": "code",
   "execution_count": null,
   "metadata": {},
   "outputs": [],
   "source": []
  }
 ],
 "metadata": {
  "kernelspec": {
   "display_name": "Python (pommer)",
   "language": "python",
   "name": "pommer"
  },
  "language_info": {
   "codemirror_mode": {
    "name": "ipython",
    "version": 3
   },
   "file_extension": ".py",
   "mimetype": "text/x-python",
   "name": "python",
   "nbconvert_exporter": "python",
   "pygments_lexer": "ipython3",
   "version": "3.6.5"
  }
 },
 "nbformat": 4,
 "nbformat_minor": 2
}

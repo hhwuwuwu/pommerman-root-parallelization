{
 "cells": [
  {
   "cell_type": "code",
   "execution_count": 1,
   "metadata": {},
   "outputs": [
    {
     "name": "stderr",
     "output_type": "stream",
     "text": [
      "/home/tambet/.conda/envs/pommer/lib/python3.6/site-packages/h5py/__init__.py:36: FutureWarning: Conversion of the second argument of issubdtype from `float` to `np.floating` is deprecated. In future, it will be treated as `np.float64 == np.dtype(float).type`.\n",
      "  from ._conv import register_converters as _register_converters\n",
      "Using TensorFlow backend.\n"
     ]
    }
   ],
   "source": [
    "import numpy as np\n",
    "from keras.models import Model, load_model\n",
    "from keras.layers import Input, Conv2D, Flatten, Dense\n",
    "from keras.callbacks import ModelCheckpoint, EarlyStopping\n",
    "import tensorflow as tf\n",
    "import keras.backend as K\n",
    "from sklearn.metrics import explained_variance_score, accuracy_score\n",
    "import matplotlib.pyplot as plt\n",
    "%matplotlib inline"
   ]
  },
  {
   "cell_type": "code",
   "execution_count": 2,
   "metadata": {},
   "outputs": [],
   "source": [
    "# make sure TF does not allocate all memory\n",
    "config = tf.ConfigProto()\n",
    "config.gpu_options.allow_growth = True\n",
    "K.set_session(tf.Session(config=config))"
   ]
  },
  {
   "cell_type": "code",
   "execution_count": 3,
   "metadata": {},
   "outputs": [
    {
     "data": {
      "text/plain": [
       "((600000, 11, 11, 18), (600000,), (600000,))"
      ]
     },
     "execution_count": 3,
     "metadata": {},
     "output_type": "execute_result"
    }
   ],
   "source": [
    "data = np.load('single_600K_disc0.99.npz')\n",
    "x_train = data['observations']\n",
    "p_train = data['actions']\n",
    "v_train = data['rewards']\n",
    "x_train.shape, p_train.shape, v_train.shape"
   ]
  },
  {
   "cell_type": "code",
   "execution_count": 4,
   "metadata": {},
   "outputs": [
    {
     "data": {
      "text/plain": [
       "((80000, 11, 11, 18), (80000,), (80000,))"
      ]
     },
     "execution_count": 4,
     "metadata": {},
     "output_type": "execute_result"
    }
   ],
   "source": [
    "data = np.load('valid_single_80K_disc0.99.npz')\n",
    "x_test = data['observations']\n",
    "p_test = data['actions']\n",
    "v_test = data['rewards']\n",
    "x_test.shape, p_test.shape, v_test.shape"
   ]
  },
  {
   "cell_type": "code",
   "execution_count": 5,
   "metadata": {},
   "outputs": [
    {
     "name": "stdout",
     "output_type": "stream",
     "text": [
      "__________________________________________________________________________________________________\n",
      "Layer (type)                    Output Shape         Param #     Connected to                     \n",
      "==================================================================================================\n",
      "input_1 (InputLayer)            (None, 11, 11, 18)   0                                            \n",
      "__________________________________________________________________________________________________\n",
      "conv2d_1 (Conv2D)               (None, 11, 11, 32)   5216        input_1[0][0]                    \n",
      "__________________________________________________________________________________________________\n",
      "conv2d_2 (Conv2D)               (None, 11, 11, 32)   9248        conv2d_1[0][0]                   \n",
      "__________________________________________________________________________________________________\n",
      "conv2d_3 (Conv2D)               (None, 11, 11, 32)   9248        conv2d_2[0][0]                   \n",
      "__________________________________________________________________________________________________\n",
      "flatten_1 (Flatten)             (None, 3872)         0           conv2d_3[0][0]                   \n",
      "__________________________________________________________________________________________________\n",
      "p (Dense)                       (None, 6)            23238       flatten_1[0][0]                  \n",
      "__________________________________________________________________________________________________\n",
      "v (Dense)                       (None, 1)            3873        flatten_1[0][0]                  \n",
      "==================================================================================================\n",
      "Total params: 50,823\n",
      "Trainable params: 50,823\n",
      "Non-trainable params: 0\n",
      "__________________________________________________________________________________________________\n"
     ]
    }
   ],
   "source": [
    "c = x = Input(shape=(11,11,18))\n",
    "c = Conv2D(filters=32, kernel_size=3, strides=1, activation=\"relu\", padding=\"same\")(c)\n",
    "c = Conv2D(filters=32, kernel_size=3, strides=1, activation=\"relu\", padding=\"same\")(c)\n",
    "c = Conv2D(filters=32, kernel_size=3, strides=1, activation=\"relu\", padding=\"same\")(c)\n",
    "h = Flatten()(c)\n",
    "#h = Dense(128, activation='relu')(h)\n",
    "p = Dense(6, activation=\"softmax\", name='p')(h)\n",
    "#h = Dense(128, activation='relu')(h)\n",
    "v = Dense(1, activation=\"tanh\", name='v')(h)\n",
    "model = Model(x, [p, v])\n",
    "model.summary()\n",
    "model.compile(optimizer='adam', loss=['sparse_categorical_crossentropy', 'mse'], loss_weights=[0, 1], metrics={'p': 'accuracy'})"
   ]
  },
  {
   "cell_type": "code",
   "execution_count": 6,
   "metadata": {},
   "outputs": [],
   "source": [
    "callbacks = [\n",
    "    ModelCheckpoint('conv32_single_value_best.h5', monitor='val_v_loss', verbose=1, save_best_only=True, mode='auto'),\n",
    "    EarlyStopping(monitor='val_v_loss', min_delta=0.001, patience=5, verbose=1, mode='auto')\n",
    "]"
   ]
  },
  {
   "cell_type": "code",
   "execution_count": 7,
   "metadata": {},
   "outputs": [
    {
     "name": "stdout",
     "output_type": "stream",
     "text": [
      "Train on 600000 samples, validate on 80000 samples\n",
      "Epoch 1/100\n",
      "600000/600000 [==============================] - 38s 63us/step - loss: 0.1743 - p_loss: 1.8023 - v_loss: 0.1743 - p_acc: 0.1294 - val_loss: 0.1634 - val_p_loss: 1.7948 - val_v_loss: 0.1634 - val_p_acc: 0.1574\n",
      "\n",
      "Epoch 00001: val_v_loss improved from inf to 0.16339, saving model to conv256_single_value_best.h5\n",
      "Epoch 2/100\n",
      "600000/600000 [==============================] - 33s 56us/step - loss: 0.1605 - p_loss: 1.7938 - v_loss: 0.1605 - p_acc: 0.1633 - val_loss: 0.1617 - val_p_loss: 1.7922 - val_v_loss: 0.1617 - val_p_acc: 0.1726\n",
      "\n",
      "Epoch 00002: val_v_loss improved from 0.16339 to 0.16167, saving model to conv256_single_value_best.h5\n",
      "Epoch 3/100\n",
      "600000/600000 [==============================] - 33s 56us/step - loss: 0.1575 - p_loss: 1.7931 - v_loss: 0.1575 - p_acc: 0.1663 - val_loss: 0.1595 - val_p_loss: 1.7932 - val_v_loss: 0.1595 - val_p_acc: 0.1652\n",
      "\n",
      "Epoch 00003: val_v_loss improved from 0.16167 to 0.15950, saving model to conv256_single_value_best.h5\n",
      "Epoch 4/100\n",
      "600000/600000 [==============================] - 33s 56us/step - loss: 0.1560 - p_loss: 1.7932 - v_loss: 0.1560 - p_acc: 0.1680 - val_loss: 0.1586 - val_p_loss: 1.7951 - val_v_loss: 0.1586 - val_p_acc: 0.1586\n",
      "\n",
      "Epoch 00004: val_v_loss improved from 0.15950 to 0.15863, saving model to conv256_single_value_best.h5\n",
      "Epoch 5/100\n",
      "600000/600000 [==============================] - 33s 56us/step - loss: 0.1547 - p_loss: 1.7929 - v_loss: 0.1547 - p_acc: 0.1704 - val_loss: 0.1566 - val_p_loss: 1.7912 - val_v_loss: 0.1566 - val_p_acc: 0.1832\n",
      "\n",
      "Epoch 00005: val_v_loss improved from 0.15863 to 0.15655, saving model to conv256_single_value_best.h5\n",
      "Epoch 6/100\n",
      "600000/600000 [==============================] - 33s 56us/step - loss: 0.1538 - p_loss: 1.7930 - v_loss: 0.1538 - p_acc: 0.1701 - val_loss: 0.1571 - val_p_loss: 1.7927 - val_v_loss: 0.1571 - val_p_acc: 0.1692\n",
      "\n",
      "Epoch 00006: val_v_loss did not improve from 0.15655\n",
      "Epoch 7/100\n",
      "600000/600000 [==============================] - 33s 56us/step - loss: 0.1529 - p_loss: 1.7929 - v_loss: 0.1529 - p_acc: 0.1697 - val_loss: 0.1562 - val_p_loss: 1.7936 - val_v_loss: 0.1562 - val_p_acc: 0.1648\n",
      "\n",
      "Epoch 00007: val_v_loss improved from 0.15655 to 0.15621, saving model to conv256_single_value_best.h5\n",
      "Epoch 8/100\n",
      "600000/600000 [==============================] - 33s 56us/step - loss: 0.1523 - p_loss: 1.7930 - v_loss: 0.1523 - p_acc: 0.1697 - val_loss: 0.1570 - val_p_loss: 1.7921 - val_v_loss: 0.1570 - val_p_acc: 0.1750\n",
      "\n",
      "Epoch 00008: val_v_loss did not improve from 0.15621\n",
      "Epoch 9/100\n",
      "600000/600000 [==============================] - 33s 56us/step - loss: 0.1517 - p_loss: 1.7931 - v_loss: 0.1517 - p_acc: 0.1689 - val_loss: 0.1564 - val_p_loss: 1.7932 - val_v_loss: 0.1564 - val_p_acc: 0.1696\n",
      "\n",
      "Epoch 00009: val_v_loss did not improve from 0.15621\n",
      "Epoch 10/100\n",
      "600000/600000 [==============================] - 33s 56us/step - loss: 0.1509 - p_loss: 1.7939 - v_loss: 0.1509 - p_acc: 0.1657 - val_loss: 0.1563 - val_p_loss: 1.7948 - val_v_loss: 0.1563 - val_p_acc: 0.1653\n",
      "\n",
      "Epoch 00010: val_v_loss did not improve from 0.15621\n",
      "Epoch 00010: early stopping\n"
     ]
    }
   ],
   "source": [
    "history = model.fit(x_train, [p_train, v_train], batch_size=512, epochs=100, validation_data=(x_test, [p_test, v_test]), callbacks=callbacks)"
   ]
  },
  {
   "cell_type": "code",
   "execution_count": 8,
   "metadata": {},
   "outputs": [
    {
     "data": {
      "text/plain": [
       "Text(0.5,1,'Value MSE')"
      ]
     },
     "execution_count": 8,
     "metadata": {},
     "output_type": "execute_result"
    },
    {
     "data": {
      "image/png": "[encoded data removed]",
      "text/plain": [
       "<Figure size 1152x432 with 2 Axes>"
      ]
     },
     "metadata": {},
     "output_type": "display_data"
    }
   ],
   "source": [
    "plt.figure(figsize=(16,6))\n",
    "plt.subplot(1, 2, 1)\n",
    "plt.plot(history.history['p_acc'])\n",
    "plt.plot(history.history['val_p_acc'])\n",
    "plt.legend(['Train', 'Validation'])\n",
    "plt.title(\"Action prediction accuracy\")\n",
    "plt.subplot(1, 2, 2)\n",
    "plt.plot(history.history['v_loss'])\n",
    "plt.plot(history.history['val_v_loss'])\n",
    "plt.legend(['Train', 'Validation'])\n",
    "plt.title(\"Value MSE\")"
   ]
  },
  {
   "cell_type": "code",
   "execution_count": 9,
   "metadata": {},
   "outputs": [
    {
     "name": "stdout",
     "output_type": "stream",
     "text": [
      "Accuracy train: 0.163775\n",
      "Accuracy test: 0.1653\n",
      "Explained variance train: 0.29219425841141133\n",
      "Explained variance test: 0.25489379199506257\n"
     ]
    }
   ],
   "source": [
    "model.save('conv32_single_value_final.h5')\n",
    "p_train_pred, v_train_pred = model.predict(x_train, batch_size=2048)\n",
    "p_test_pred, v_test_pred = model.predict(x_test, batch_size=2048)\n",
    "act_train_pred = np.argmax(p_train_pred, axis=1)\n",
    "act_test_pred = np.argmax(p_test_pred, axis=1)\n",
    "print(\"Accuracy train:\", accuracy_score(p_train, act_train_pred))\n",
    "print(\"Accuracy test:\", accuracy_score(p_test, act_test_pred))\n",
    "print(\"Explained variance train:\", explained_variance_score(v_train, v_train_pred))\n",
    "print(\"Explained variance test:\", explained_variance_score(v_test, v_test_pred))"
   ]
  },
  {
   "cell_type": "code",
   "execution_count": 10,
   "metadata": {},
   "outputs": [
    {
     "name": "stdout",
     "output_type": "stream",
     "text": [
      "Accuracy train: 0.16448\n",
      "Accuracy test: 0.1647625\n",
      "Explained variance train: 0.28031593436057123\n",
      "Explained variance test: 0.25558140984276523\n"
     ]
    }
   ],
   "source": [
    "model = load_model('conv32_single_value_best.h5')\n",
    "p_train_pred, v_train_pred = model.predict(x_train, batch_size=2048)\n",
    "p_test_pred, v_test_pred = model.predict(x_test, batch_size=2048)\n",
    "act_train_pred = np.argmax(p_train_pred, axis=1)\n",
    "act_test_pred = np.argmax(p_test_pred, axis=1)\n",
    "print(\"Accuracy train:\", accuracy_score(p_train, act_train_pred))\n",
    "print(\"Accuracy test:\", accuracy_score(p_test, act_test_pred))\n",
    "print(\"Explained variance train:\", explained_variance_score(v_train, v_train_pred))\n",
    "print(\"Explained variance test:\", explained_variance_score(v_test, v_test_pred))"
   ]
  },
  {
   "cell_type": "code",
   "execution_count": null,
   "metadata": {},
   "outputs": [],
   "source": []
  }
 ],
 "metadata": {
  "kernelspec": {
   "display_name": "Python (pommer)",
   "language": "python",
   "name": "pommer"
  },
  "language_info": {
   "codemirror_mode": {
    "name": "ipython",
    "version": 3
   },
   "file_extension": ".py",
   "mimetype": "text/x-python",
   "name": "python",
   "nbconvert_exporter": "python",
   "pygments_lexer": "ipython3",
   "version": "3.6.5"
  }
 },
 "nbformat": 4,
 "nbformat_minor": 2
}

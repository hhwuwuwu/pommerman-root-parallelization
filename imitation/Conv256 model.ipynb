{
 "cells": [
  {
   "cell_type": "code",
   "execution_count": 24,
   "metadata": {},
   "outputs": [],
   "source": [
    "import numpy as np\n",
    "from keras.models import Model, load_model\n",
    "from keras.layers import Input, Conv2D, Flatten, Dense\n",
    "from keras.callbacks import ModelCheckpoint, EarlyStopping\n",
    "import tensorflow as tf\n",
    "import keras.backend as K\n",
    "from sklearn.metrics import explained_variance_score, accuracy_score\n",
    "import matplotlib.pyplot as plt\n",
    "%matplotlib inline"
   ]
  },
  {
   "cell_type": "code",
   "execution_count": 2,
   "metadata": {},
   "outputs": [],
   "source": [
    "# make sure TF does not allocate all memory\n",
    "config = tf.ConfigProto()\n",
    "config.gpu_options.allow_growth = True\n",
    "K.set_session(tf.Session(config=config))"
   ]
  },
  {
   "cell_type": "code",
   "execution_count": 3,
   "metadata": {},
   "outputs": [
    {
     "data": {
      "text/plain": [
       "((594333, 11, 11, 18), (594333,), (594333,))"
      ]
     },
     "execution_count": 3,
     "metadata": {},
     "output_type": "execute_result"
    }
   ],
   "source": [
    "data = np.load('simple_600K_disc0.99_cleaned.npz')\n",
    "x_train = data['observations']\n",
    "p_train = data['actions']\n",
    "v_train = data['rewards']\n",
    "x_train.shape, p_train.shape, v_train.shape"
   ]
  },
  {
   "cell_type": "code",
   "execution_count": 4,
   "metadata": {},
   "outputs": [
    {
     "data": {
      "text/plain": [
       "((95623, 11, 11, 18), (95623,), (95623,))"
      ]
     },
     "execution_count": 4,
     "metadata": {},
     "output_type": "execute_result"
    }
   ],
   "source": [
    "data = np.load('valid_100K_disc0.99_cleaned.npz')\n",
    "x_test = data['observations']\n",
    "p_test = data['actions']\n",
    "v_test = data['rewards']\n",
    "x_test.shape, p_test.shape, v_test.shape"
   ]
  },
  {
   "cell_type": "code",
   "execution_count": 74,
   "metadata": {},
   "outputs": [
    {
     "name": "stdout",
     "output_type": "stream",
     "text": [
      "__________________________________________________________________________________________________\n",
      "Layer (type)                    Output Shape         Param #     Connected to                     \n",
      "==================================================================================================\n",
      "input_15 (InputLayer)           (None, 11, 11, 18)   0                                            \n",
      "__________________________________________________________________________________________________\n",
      "conv2d_43 (Conv2D)              (None, 11, 11, 256)  41728       input_15[0][0]                   \n",
      "__________________________________________________________________________________________________\n",
      "conv2d_44 (Conv2D)              (None, 11, 11, 256)  590080      conv2d_43[0][0]                  \n",
      "__________________________________________________________________________________________________\n",
      "conv2d_45 (Conv2D)              (None, 11, 11, 256)  590080      conv2d_44[0][0]                  \n",
      "__________________________________________________________________________________________________\n",
      "flatten_15 (Flatten)            (None, 30976)        0           conv2d_45[0][0]                  \n",
      "__________________________________________________________________________________________________\n",
      "p (Dense)                       (None, 6)            185862      flatten_15[0][0]                 \n",
      "__________________________________________________________________________________________________\n",
      "v (Dense)                       (None, 1)            30977       flatten_15[0][0]                 \n",
      "==================================================================================================\n",
      "Total params: 1,438,727\n",
      "Trainable params: 1,438,727\n",
      "Non-trainable params: 0\n",
      "__________________________________________________________________________________________________\n"
     ]
    }
   ],
   "source": [
    "c = x = Input(shape=(11,11,18))\n",
    "c = Conv2D(filters=256, kernel_size=3, strides=1, activation=\"relu\", padding=\"same\")(c)\n",
    "c = Conv2D(filters=256, kernel_size=3, strides=1, activation=\"relu\", padding=\"same\")(c)\n",
    "c = Conv2D(filters=256, kernel_size=3, strides=1, activation=\"relu\", padding=\"same\")(c)\n",
    "h = Flatten()(c)\n",
    "#h = Dense(128, activation='relu')(h)\n",
    "p = Dense(6, activation=\"softmax\", name='p')(h)\n",
    "#h = Dense(128, activation='relu')(h)\n",
    "v = Dense(1, activation=\"tanh\", name='v')(h)\n",
    "model = Model(x, [p, v])\n",
    "model.summary()\n",
    "model.compile(optimizer='adam', loss=['sparse_categorical_crossentropy', 'mse'], loss_weights=[1, 0], metrics={'p': 'accuracy'})"
   ]
  },
  {
   "cell_type": "code",
   "execution_count": 75,
   "metadata": {},
   "outputs": [],
   "source": [
    "callbacks = [\n",
    "    ModelCheckpoint('conv.h5', monitor='val_p_acc', verbose=1, save_best_only=True, mode='max'),\n",
    "    EarlyStopping(monitor='val_p_acc', min_delta=0.001, patience=5, verbose=1, mode='max')\n",
    "]"
   ]
  },
  {
   "cell_type": "code",
   "execution_count": 76,
   "metadata": {},
   "outputs": [
    {
     "name": "stdout",
     "output_type": "stream",
     "text": [
      "Train on 594333 samples, validate on 95623 samples\n",
      "Epoch 1/10\n",
      "594333/594333 [==============================] - 188s 316us/step - loss: 0.9410 - p_loss: 0.9410 - v_loss: 0.1741 - p_acc: 0.5675 - val_loss: 0.7122 - val_p_loss: 0.7122 - val_v_loss: 0.1774 - val_p_acc: 0.6569\n",
      "\n",
      "Epoch 00001: val_p_acc improved from -inf to 0.65693, saving model to conv.h5\n",
      "Epoch 2/10\n",
      "594333/594333 [==============================] - 185s 312us/step - loss: 0.6879 - p_loss: 0.6879 - v_loss: 0.1767 - p_acc: 0.6606 - val_loss: 0.6690 - val_p_loss: 0.6690 - val_v_loss: 0.1769 - val_p_acc: 0.6687\n",
      "\n",
      "Epoch 00002: val_p_acc improved from 0.65693 to 0.66874, saving model to conv.h5\n",
      "Epoch 3/10\n",
      "594333/594333 [==============================] - 185s 311us/step - loss: 0.6586 - p_loss: 0.6586 - v_loss: 0.1778 - p_acc: 0.6723 - val_loss: 0.6630 - val_p_loss: 0.6630 - val_v_loss: 0.1778 - val_p_acc: 0.6714\n",
      "\n",
      "Epoch 00003: val_p_acc improved from 0.66874 to 0.67145, saving model to conv.h5\n",
      "Epoch 4/10\n",
      "594333/594333 [==============================] - 185s 312us/step - loss: 0.6431 - p_loss: 0.6431 - v_loss: 0.1787 - p_acc: 0.6796 - val_loss: 0.6505 - val_p_loss: 0.6505 - val_v_loss: 0.1784 - val_p_acc: 0.6752\n",
      "\n",
      "Epoch 00004: val_p_acc improved from 0.67145 to 0.67515, saving model to conv.h5\n",
      "Epoch 5/10\n",
      "594333/594333 [==============================] - 185s 312us/step - loss: 0.6323 - p_loss: 0.6323 - v_loss: 0.1797 - p_acc: 0.6853 - val_loss: 0.6551 - val_p_loss: 0.6551 - val_v_loss: 0.1795 - val_p_acc: 0.6752\n",
      "\n",
      "Epoch 00005: val_p_acc improved from 0.67515 to 0.67517, saving model to conv.h5\n",
      "Epoch 6/10\n",
      "594333/594333 [==============================] - 184s 310us/step - loss: 0.6224 - p_loss: 0.6224 - v_loss: 0.1802 - p_acc: 0.6916 - val_loss: 0.6527 - val_p_loss: 0.6527 - val_v_loss: 0.1808 - val_p_acc: 0.6764\n",
      "\n",
      "Epoch 00006: val_p_acc improved from 0.67517 to 0.67637, saving model to conv.h5\n",
      "Epoch 7/10\n",
      "594333/594333 [==============================] - 184s 309us/step - loss: 0.6127 - p_loss: 0.6127 - v_loss: 0.1815 - p_acc: 0.6980 - val_loss: 0.6527 - val_p_loss: 0.6527 - val_v_loss: 0.1793 - val_p_acc: 0.6729\n",
      "\n",
      "Epoch 00007: val_p_acc did not improve from 0.67637\n",
      "Epoch 8/10\n",
      "594333/594333 [==============================] - 184s 309us/step - loss: 0.6019 - p_loss: 0.6019 - v_loss: 0.1821 - p_acc: 0.7047 - val_loss: 0.6612 - val_p_loss: 0.6612 - val_v_loss: 0.1815 - val_p_acc: 0.6749\n",
      "\n",
      "Epoch 00008: val_p_acc did not improve from 0.67637\n",
      "Epoch 9/10\n",
      "594333/594333 [==============================] - 184s 309us/step - loss: 0.5900 - p_loss: 0.5900 - v_loss: 0.1830 - p_acc: 0.7123 - val_loss: 0.6723 - val_p_loss: 0.6723 - val_v_loss: 0.1820 - val_p_acc: 0.6716\n",
      "\n",
      "Epoch 00009: val_p_acc did not improve from 0.67637\n",
      "Epoch 10/10\n",
      "594333/594333 [==============================] - 184s 309us/step - loss: 0.5767 - p_loss: 0.5767 - v_loss: 0.1854 - p_acc: 0.7196 - val_loss: 0.6801 - val_p_loss: 0.6801 - val_v_loss: 0.1843 - val_p_acc: 0.6700\n",
      "\n",
      "Epoch 00010: val_p_acc did not improve from 0.67637\n"
     ]
    }
   ],
   "source": [
    "history = model.fit(x_train, [p_train, v_train], batch_size=512, epochs=10, validation_data=(x_test, [p_test, v_test]), callbacks=callbacks)"
   ]
  },
  {
   "cell_type": "code",
   "execution_count": 77,
   "metadata": {},
   "outputs": [
    {
     "data": {
      "text/plain": [
       "Text(0.5,1,'Value MSE')"
      ]
     },
     "execution_count": 77,
     "metadata": {},
     "output_type": "execute_result"
    },
    {
     "data": {
      "image/png": "[encoded data removed]",
      "text/plain": [
       "<Figure size 1152x432 with 2 Axes>"
      ]
     },
     "metadata": {},
     "output_type": "display_data"
    }
   ],
   "source": [
    "plt.figure(figsize=(16,6))\n",
    "plt.subplot(1, 2, 1)\n",
    "plt.plot(history.history['p_acc'])\n",
    "plt.plot(history.history['val_p_acc'])\n",
    "plt.legend(['Train', 'Validation'])\n",
    "plt.title(\"Action prediction accuracy\")\n",
    "plt.subplot(1, 2, 2)\n",
    "plt.plot(history.history['v_loss'])\n",
    "plt.plot(history.history['val_v_loss'])\n",
    "plt.legend(['Train', 'Validation'])\n",
    "plt.title(\"Value MSE\")"
   ]
  },
  {
   "cell_type": "code",
   "execution_count": 78,
   "metadata": {},
   "outputs": [
    {
     "name": "stdout",
     "output_type": "stream",
     "text": [
      "Accuracy train: 0.7048102662985228\n",
      "Accuracy test: 0.6763749307175052\n",
      "Explained variance train: -0.04325305576853089\n",
      "Explained variance test: -0.04068448877452058\n"
     ]
    }
   ],
   "source": [
    "model = load_model('conv.h5')\n",
    "p_train_pred, v_train_pred = model.predict(x_train, batch_size=2048)\n",
    "p_test_pred, v_test_pred = model.predict(x_test, batch_size=2048)\n",
    "act_train_pred = np.argmax(p_train_pred, axis=1)\n",
    "act_test_pred = np.argmax(p_test_pred, axis=1)\n",
    "print(\"Accuracy train:\", accuracy_score(p_train, act_train_pred))\n",
    "print(\"Accuracy test:\", accuracy_score(p_test, act_test_pred))\n",
    "print(\"Explained variance train:\", explained_variance_score(v_train, v_train_pred))\n",
    "print(\"Explained variance test:\", explained_variance_score(v_test, v_test_pred))"
   ]
  },
  {
   "cell_type": "code",
   "execution_count": null,
   "metadata": {},
   "outputs": [],
   "source": []
  }
 ],
 "metadata": {
  "kernelspec": {
   "display_name": "Python 3",
   "language": "python",
   "name": "python3"
  },
  "language_info": {
   "codemirror_mode": {
    "name": "ipython",
    "version": 3
   },
   "file_extension": ".py",
   "mimetype": "text/x-python",
   "name": "python",
   "nbconvert_exporter": "python",
   "pygments_lexer": "ipython3",
   "version": "3.6.5"
  }
 },
 "nbformat": 4,
 "nbformat_minor": 2
}

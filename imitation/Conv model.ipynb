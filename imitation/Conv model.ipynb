{
 "cells": [
  {
   "cell_type": "code",
   "execution_count": 3,
   "metadata": {},
   "outputs": [],
   "source": [
    "import numpy as np\n",
    "from keras.models import Model\n",
    "from keras.layers import Input, Conv2D, Flatten, Dense\n",
    "import tensorflow as tf\n",
    "import keras.backend as K\n",
    "from sklearn.metrics import explained_variance_score, accuracy_score\n",
    "import matplotlib.pyplot as plt\n",
    "%matplotlib inline"
   ]
  },
  {
   "cell_type": "code",
   "execution_count": 4,
   "metadata": {},
   "outputs": [],
   "source": [
    "# make sure TF does not allocate all memory\n",
    "config = tf.ConfigProto()\n",
    "config.gpu_options.allow_growth = True\n",
    "K.set_session(tf.Session(config=config))"
   ]
  },
  {
   "cell_type": "code",
   "execution_count": 5,
   "metadata": {},
   "outputs": [
    {
     "data": {
      "text/plain": [
       "((594333, 11, 11, 18), (594333,), (594333,))"
      ]
     },
     "execution_count": 5,
     "metadata": {},
     "output_type": "execute_result"
    }
   ],
   "source": [
    "data = np.load('simple_600K_disc0.99_cleaned.npz')\n",
    "x_train = data['observations']\n",
    "p_train = data['actions']\n",
    "v_train = data['rewards']\n",
    "x_train.shape, p_train.shape, v_train.shape"
   ]
  },
  {
   "cell_type": "code",
   "execution_count": 6,
   "metadata": {},
   "outputs": [
    {
     "data": {
      "text/plain": [
       "((95623, 11, 11, 18), (95623,), (95623,))"
      ]
     },
     "execution_count": 6,
     "metadata": {},
     "output_type": "execute_result"
    }
   ],
   "source": [
    "data = np.load('valid_100K_disc0.99_cleaned.npz')\n",
    "x_test = data['observations']\n",
    "p_test = data['actions']\n",
    "v_test = data['rewards']\n",
    "x_test.shape, p_test.shape, v_test.shape"
   ]
  },
  {
   "cell_type": "code",
   "execution_count": 7,
   "metadata": {},
   "outputs": [
    {
     "name": "stdout",
     "output_type": "stream",
     "text": [
      "__________________________________________________________________________________________________\n",
      "Layer (type)                    Output Shape         Param #     Connected to                     \n",
      "==================================================================================================\n",
      "input_1 (InputLayer)            (None, 11, 11, 18)   0                                            \n",
      "__________________________________________________________________________________________________\n",
      "conv2d_1 (Conv2D)               (None, 11, 11, 32)   5216        input_1[0][0]                    \n",
      "__________________________________________________________________________________________________\n",
      "conv2d_2 (Conv2D)               (None, 11, 11, 32)   9248        conv2d_1[0][0]                   \n",
      "__________________________________________________________________________________________________\n",
      "conv2d_3 (Conv2D)               (None, 11, 11, 32)   9248        conv2d_2[0][0]                   \n",
      "__________________________________________________________________________________________________\n",
      "flatten_1 (Flatten)             (None, 3872)         0           conv2d_3[0][0]                   \n",
      "__________________________________________________________________________________________________\n",
      "dense_1 (Dense)                 (None, 128)          495744      flatten_1[0][0]                  \n",
      "__________________________________________________________________________________________________\n",
      "dense_2 (Dense)                 (None, 128)          16512       dense_1[0][0]                    \n",
      "__________________________________________________________________________________________________\n",
      "p (Dense)                       (None, 6)            774         dense_1[0][0]                    \n",
      "__________________________________________________________________________________________________\n",
      "v (Dense)                       (None, 1)            129         dense_2[0][0]                    \n",
      "==================================================================================================\n",
      "Total params: 536,871\n",
      "Trainable params: 536,871\n",
      "Non-trainable params: 0\n",
      "__________________________________________________________________________________________________\n"
     ]
    }
   ],
   "source": [
    "c = x = Input(shape=(11,11,18))\n",
    "c = Conv2D(filters=32, kernel_size=3, strides=1, activation=\"relu\", padding=\"same\")(c)\n",
    "c = Conv2D(filters=32, kernel_size=3, strides=1, activation=\"relu\", padding=\"same\")(c)\n",
    "c = Conv2D(filters=32, kernel_size=3, strides=1, activation=\"relu\", padding=\"same\")(c)\n",
    "h = Flatten()(c)\n",
    "h = Dense(128, activation='relu')(h)\n",
    "p = Dense(6, activation=\"softmax\", name='p')(h)\n",
    "h = Dense(128, activation='relu')(h)\n",
    "v = Dense(1, activation=\"tanh\", name='v')(h)\n",
    "model = Model(x, [p, v])\n",
    "model.summary()\n",
    "model.compile(optimizer='adam', loss=['sparse_categorical_crossentropy', 'mse'], loss_weights=[1, 10], metrics={'p': 'accuracy'})"
   ]
  },
  {
   "cell_type": "code",
   "execution_count": 8,
   "metadata": {},
   "outputs": [
    {
     "name": "stdout",
     "output_type": "stream",
     "text": [
      "Train on 594333 samples, validate on 95623 samples\n",
      "Epoch 1/10\n",
      "594333/594333 [==============================] - 56s 94us/step - loss: 2.3367 - p_loss: 1.2332 - v_loss: 0.1104 - p_acc: 0.4555 - val_loss: 2.9199 - val_p_loss: 1.0165 - val_v_loss: 0.1903 - val_p_acc: 0.5383\n",
      "Epoch 2/10\n",
      "594333/594333 [==============================] - 54s 91us/step - loss: 1.4370 - p_loss: 0.8957 - v_loss: 0.0541 - p_acc: 0.5908 - val_loss: 2.8322 - val_p_loss: 0.8544 - val_v_loss: 0.1978 - val_p_acc: 0.6050\n",
      "Epoch 3/10\n",
      "594333/594333 [==============================] - 54s 91us/step - loss: 1.1834 - p_loss: 0.8072 - v_loss: 0.0376 - p_acc: 0.6240 - val_loss: 2.8397 - val_p_loss: 0.8100 - val_v_loss: 0.2030 - val_p_acc: 0.6213\n",
      "Epoch 4/10\n",
      "594333/594333 [==============================] - 54s 90us/step - loss: 1.0812 - p_loss: 0.7709 - v_loss: 0.0310 - p_acc: 0.6354 - val_loss: 2.8131 - val_p_loss: 0.8182 - val_v_loss: 0.1995 - val_p_acc: 0.6202\n",
      "Epoch 5/10\n",
      "594333/594333 [==============================] - 54s 91us/step - loss: 1.0187 - p_loss: 0.7495 - v_loss: 0.0269 - p_acc: 0.6423 - val_loss: 2.8283 - val_p_loss: 0.7905 - val_v_loss: 0.2038 - val_p_acc: 0.6270\n",
      "Epoch 6/10\n",
      "594333/594333 [==============================] - 54s 91us/step - loss: 0.9792 - p_loss: 0.7353 - v_loss: 0.0244 - p_acc: 0.6469 - val_loss: 2.9707 - val_p_loss: 0.7934 - val_v_loss: 0.2177 - val_p_acc: 0.6319\n",
      "Epoch 7/10\n",
      "594333/594333 [==============================] - 54s 91us/step - loss: 0.9457 - p_loss: 0.7242 - v_loss: 0.0222 - p_acc: 0.6516 - val_loss: 2.9210 - val_p_loss: 0.8087 - val_v_loss: 0.2112 - val_p_acc: 0.6271\n",
      "Epoch 8/10\n",
      "594333/594333 [==============================] - 54s 91us/step - loss: 0.9214 - p_loss: 0.7156 - v_loss: 0.0206 - p_acc: 0.6558 - val_loss: 2.8482 - val_p_loss: 0.8018 - val_v_loss: 0.2046 - val_p_acc: 0.6289\n",
      "Epoch 9/10\n",
      "594333/594333 [==============================] - 55s 92us/step - loss: 0.9011 - p_loss: 0.7084 - v_loss: 0.0193 - p_acc: 0.6588 - val_loss: 2.9382 - val_p_loss: 0.7946 - val_v_loss: 0.2144 - val_p_acc: 0.6327\n",
      "Epoch 10/10\n",
      "594333/594333 [==============================] - 54s 92us/step - loss: 0.8862 - p_loss: 0.7035 - v_loss: 0.0183 - p_acc: 0.6609 - val_loss: 2.8827 - val_p_loss: 0.7980 - val_v_loss: 0.2085 - val_p_acc: 0.6295\n"
     ]
    }
   ],
   "source": [
    "history = model.fit(x_train, [p_train, v_train], batch_size=128, epochs=10, validation_data=(x_test, [p_test, v_test]))"
   ]
  },
  {
   "cell_type": "code",
   "execution_count": 9,
   "metadata": {},
   "outputs": [
    {
     "data": {
      "text/plain": [
       "Text(0.5,1,'Value MSE')"
      ]
     },
     "execution_count": 9,
     "metadata": {},
     "output_type": "execute_result"
    },
    {
     "data": {
      "image/png": "[encoded data removed]",
      "text/plain": [
       "<Figure size 1152x432 with 2 Axes>"
      ]
     },
     "metadata": {},
     "output_type": "display_data"
    }
   ],
   "source": [
    "plt.figure(figsize=(16,6))\n",
    "plt.subplot(1, 2, 1)\n",
    "plt.plot(history.history['p_acc'])\n",
    "plt.plot(history.history['val_p_acc'])\n",
    "plt.legend(['Train', 'Validation'])\n",
    "plt.title(\"Action prediction accuracy\")\n",
    "plt.subplot(1, 2, 2)\n",
    "plt.plot(history.history['v_loss'])\n",
    "plt.plot(history.history['val_v_loss'])\n",
    "plt.legend(['Train', 'Validation'])\n",
    "plt.title(\"Value MSE\")"
   ]
  },
  {
   "cell_type": "code",
   "execution_count": 10,
   "metadata": {},
   "outputs": [
    {
     "name": "stdout",
     "output_type": "stream",
     "text": [
      "Explained variance train: 0.8827217127612729\n",
      "Explained variance test: -0.39105035571504\n"
     ]
    }
   ],
   "source": [
    "_, v_train_pred = model.predict(x_train)\n",
    "_, v_test_pred = model.predict(x_test)\n",
    "print(\"Explained variance train:\", explained_variance_score(v_train, v_train_pred))\n",
    "print(\"Explained variance test:\", explained_variance_score(v_test, v_test_pred))"
   ]
  },
  {
   "cell_type": "code",
   "execution_count": 11,
   "metadata": {},
   "outputs": [],
   "source": [
    "model.save('conv.h5')"
   ]
  },
  {
   "cell_type": "code",
   "execution_count": null,
   "metadata": {},
   "outputs": [],
   "source": []
  }
 ],
 "metadata": {
  "kernelspec": {
   "display_name": "Python (pommer)",
   "language": "python",
   "name": "pommer"
  },
  "language_info": {
   "codemirror_mode": {
    "name": "ipython",
    "version": 3
   },
   "file_extension": ".py",
   "mimetype": "text/x-python",
   "name": "python",
   "nbconvert_exporter": "python",
   "pygments_lexer": "ipython3",
   "version": "3.6.5"
  }
 },
 "nbformat": 4,
 "nbformat_minor": 2
}
